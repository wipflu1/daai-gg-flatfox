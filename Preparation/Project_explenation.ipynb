{
 "cells": [
  {
   "metadata": {},
   "cell_type": "markdown",
   "source": [
    "# Project Outline for Predicting Flat Prices\n",
    "Authors: Liam Decaster, Lukas Wipf, Grant Gordon"
   ],
   "id": "8a31c07b893e737c"
  },
  {
   "metadata": {},
   "cell_type": "markdown",
   "source": [
    "### Problem Statement\n",
    "The goal of this project is to develop a predictive model to estimate the price of flats listed on Flatfox.ch based on parameters like the number of rooms, location, and living space. This will help users make informed decisions and avoid overpaying for their desired properties."
   ],
   "id": "17fc9289d2ebc063"
  },
  {
   "metadata": {},
   "cell_type": "markdown",
   "source": [
    "### Initial Situation\n",
    "Currently, Flatfox.ch users lack an automated tool to estimate fair flat prices based on specific features. While the platform is popular for listing flats, the absence of such a tool poses a challenge. Developing this tool presents an opportunity to enhance user experience and trust, positioning Flatfox.ch as a more reliable and user-friendly option compared to competitors"
   ],
   "id": "7c4e8f7b1c8f76a0"
  },
  {
   "metadata": {},
   "cell_type": "markdown",
   "source": [
    "### Value Proposition\n",
    "We aim to provide customers with accurate price estimates for flats based on their desired features. This tool will help customers avoid overpaying during their apartment search, ensuring they make informed decisions and get fair deals on their chosen properties. \n",
    "\n",
    "einfacher wohnung finden"
   ],
   "id": "4e4a87de81e475e"
  },
  {
   "metadata": {},
   "cell_type": "markdown",
   "source": [
    "### Project Plan\n",
    "In this project, we will scrape data from the Flatfox.ch website to train a model that predicts flat prices based on parameters like the number of rooms, location, and living space. The process includes:\n",
    "- Data Scraping: Extract detailed information about flat listings from Flatfox.ch.\n",
    "- Data Preprocessing: Clean and preprocess the data to handle missing values and normalize features.\n",
    "- Model Training: Use machine learning algorithms methods to build a predictive model.\n",
    "- Model Evaluation: Assess the model's performance using relevant metrics to ensure accuracy and reliability.\n",
    "\n",
    "The goal is to create a tool that helps users estimate flat prices on Flatfox.ch, aiding in their decision-making process."
   ],
   "id": "e42743c3ba6c8e84"
  },
  {
   "metadata": {},
   "cell_type": "markdown",
   "source": [
    "### Goals\n",
    "Here we define the milestones for the Project. \n",
    "- Web Scraper Development Complete\n",
    "- Data Cleaning and Preprocessing Completed\n",
    "- Feature Engineering Complete\n",
    "- Initial Model Development and Training\n",
    "- Model Evaluation and Refinement\n",
    "- Deployment\n",
    "- Final Documentation and Project Report\n",
    "\n",
    "root mean square deviation (money)\n",
    "y data profiling "
   ],
   "id": "931c5be000b677ba"
  },
  {
   "metadata": {},
   "cell_type": "markdown",
   "source": "",
   "id": "a78c3720cb2e43cb"
  }
 ],
 "metadata": {
  "kernelspec": {
   "display_name": "Python 3",
   "language": "python",
   "name": "python3"
  },
  "language_info": {
   "codemirror_mode": {
    "name": "ipython",
    "version": 2
   },
   "file_extension": ".py",
   "mimetype": "text/x-python",
   "name": "python",
   "nbconvert_exporter": "python",
   "pygments_lexer": "ipython2",
   "version": "2.7.6"
  }
 },
 "nbformat": 4,
 "nbformat_minor": 5
}
