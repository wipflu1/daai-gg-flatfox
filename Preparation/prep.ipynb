{
 "cells": [
  {
   "cell_type": "markdown",
   "source": [],
   "metadata": {
    "collapsed": false
   },
   "id": "2dacbbe7fbb4cdc4"
  },
  {
   "cell_type": "code",
   "execution_count": 1,
   "id": "initial_id",
   "metadata": {
    "collapsed": true,
    "ExecuteTime": {
     "end_time": "2024-07-02T12:30:08.985937Z",
     "start_time": "2024-07-02T12:30:07.850969Z"
    }
   },
   "outputs": [],
   "source": [
    "import pandas as pd"
   ]
  },
  {
   "cell_type": "markdown",
   "source": [],
   "metadata": {
    "collapsed": false
   },
   "id": "1ab6248c833ee646"
  },
  {
   "cell_type": "code",
   "outputs": [
    {
     "name": "stderr",
     "output_type": "stream",
     "text": [
      "/tmp/ipykernel_78713/3852011527.py:1: DtypeWarning: Columns (52) have mixed types. Specify dtype option on import or set low_memory=False.\n",
      "  df = pd.read_csv(\"flatfox.csv\")\n"
     ]
    },
    {
     "data": {
      "text/plain": "  object_category  object_type  price_display price_display_type price_unit  \\\n1            PARK  GARAGE_SLOT          130.0              TOTAL    monthly   \n2        INDUSTRY      ATELIER         2325.0              TOTAL    monthly   \n3       APARTMENT  SINGLE_ROOM          610.0              TOTAL    monthly   \n4          SHARED  SHARED_FLAT         1350.0              TOTAL    monthly   \n5       APARTMENT    APARTMENT         2370.0              TOTAL    monthly   \n\n   surface_living  surface_property  surface_usable  surface_usable_minimum  \\\n1             NaN               NaN             NaN                     NaN   \n2             NaN               NaN           119.0                     NaN   \n3            17.0               NaN             NaN                     NaN   \n4            18.0               NaN             NaN                     NaN   \n5           145.0               NaN             NaN                     NaN   \n\n   volume  ...  zipcode        city   latitude  longitude  year_built  \\\n1     NaN  ...     5600    Lenzburg  47.384753    8.18275         NaN   \n2     NaN  ...     8600   Dübendorf  47.397886    8.60085      2018.0   \n3     NaN  ...     9008  St. Gallen  47.442430    9.39251         NaN   \n4     NaN  ...     8005      Zürich  47.389303    8.51320      2004.0   \n5     NaN  ...     2000   Neuchâtel  46.798803    6.85501      2004.0   \n\n   year_renovated moving_date_type  moving_date reserved  livingspace  \n1             NaN              agr          NaN    False          NaN  \n2          2018.0              imm          NaN    False        119.0  \n3             NaN              dat   2018-09-01    False         17.0  \n4          2004.0              dat   2023-04-01    False         18.0  \n5          2004.0              imm          NaN    False        145.0  \n\n[5 rows x 27 columns]",
      "text/html": "<div>\n<style scoped>\n    .dataframe tbody tr th:only-of-type {\n        vertical-align: middle;\n    }\n\n    .dataframe tbody tr th {\n        vertical-align: top;\n    }\n\n    .dataframe thead th {\n        text-align: right;\n    }\n</style>\n<table border=\"1\" class=\"dataframe\">\n  <thead>\n    <tr style=\"text-align: right;\">\n      <th></th>\n      <th>object_category</th>\n      <th>object_type</th>\n      <th>price_display</th>\n      <th>price_display_type</th>\n      <th>price_unit</th>\n      <th>surface_living</th>\n      <th>surface_property</th>\n      <th>surface_usable</th>\n      <th>surface_usable_minimum</th>\n      <th>volume</th>\n      <th>...</th>\n      <th>zipcode</th>\n      <th>city</th>\n      <th>latitude</th>\n      <th>longitude</th>\n      <th>year_built</th>\n      <th>year_renovated</th>\n      <th>moving_date_type</th>\n      <th>moving_date</th>\n      <th>reserved</th>\n      <th>livingspace</th>\n    </tr>\n  </thead>\n  <tbody>\n    <tr>\n      <th>1</th>\n      <td>PARK</td>\n      <td>GARAGE_SLOT</td>\n      <td>130.0</td>\n      <td>TOTAL</td>\n      <td>monthly</td>\n      <td>NaN</td>\n      <td>NaN</td>\n      <td>NaN</td>\n      <td>NaN</td>\n      <td>NaN</td>\n      <td>...</td>\n      <td>5600</td>\n      <td>Lenzburg</td>\n      <td>47.384753</td>\n      <td>8.18275</td>\n      <td>NaN</td>\n      <td>NaN</td>\n      <td>agr</td>\n      <td>NaN</td>\n      <td>False</td>\n      <td>NaN</td>\n    </tr>\n    <tr>\n      <th>2</th>\n      <td>INDUSTRY</td>\n      <td>ATELIER</td>\n      <td>2325.0</td>\n      <td>TOTAL</td>\n      <td>monthly</td>\n      <td>NaN</td>\n      <td>NaN</td>\n      <td>119.0</td>\n      <td>NaN</td>\n      <td>NaN</td>\n      <td>...</td>\n      <td>8600</td>\n      <td>Dübendorf</td>\n      <td>47.397886</td>\n      <td>8.60085</td>\n      <td>2018.0</td>\n      <td>2018.0</td>\n      <td>imm</td>\n      <td>NaN</td>\n      <td>False</td>\n      <td>119.0</td>\n    </tr>\n    <tr>\n      <th>3</th>\n      <td>APARTMENT</td>\n      <td>SINGLE_ROOM</td>\n      <td>610.0</td>\n      <td>TOTAL</td>\n      <td>monthly</td>\n      <td>17.0</td>\n      <td>NaN</td>\n      <td>NaN</td>\n      <td>NaN</td>\n      <td>NaN</td>\n      <td>...</td>\n      <td>9008</td>\n      <td>St. Gallen</td>\n      <td>47.442430</td>\n      <td>9.39251</td>\n      <td>NaN</td>\n      <td>NaN</td>\n      <td>dat</td>\n      <td>2018-09-01</td>\n      <td>False</td>\n      <td>17.0</td>\n    </tr>\n    <tr>\n      <th>4</th>\n      <td>SHARED</td>\n      <td>SHARED_FLAT</td>\n      <td>1350.0</td>\n      <td>TOTAL</td>\n      <td>monthly</td>\n      <td>18.0</td>\n      <td>NaN</td>\n      <td>NaN</td>\n      <td>NaN</td>\n      <td>NaN</td>\n      <td>...</td>\n      <td>8005</td>\n      <td>Zürich</td>\n      <td>47.389303</td>\n      <td>8.51320</td>\n      <td>2004.0</td>\n      <td>2004.0</td>\n      <td>dat</td>\n      <td>2023-04-01</td>\n      <td>False</td>\n      <td>18.0</td>\n    </tr>\n    <tr>\n      <th>5</th>\n      <td>APARTMENT</td>\n      <td>APARTMENT</td>\n      <td>2370.0</td>\n      <td>TOTAL</td>\n      <td>monthly</td>\n      <td>145.0</td>\n      <td>NaN</td>\n      <td>NaN</td>\n      <td>NaN</td>\n      <td>NaN</td>\n      <td>...</td>\n      <td>2000</td>\n      <td>Neuchâtel</td>\n      <td>46.798803</td>\n      <td>6.85501</td>\n      <td>2004.0</td>\n      <td>2004.0</td>\n      <td>imm</td>\n      <td>NaN</td>\n      <td>False</td>\n      <td>145.0</td>\n    </tr>\n  </tbody>\n</table>\n<p>5 rows × 27 columns</p>\n</div>"
     },
     "execution_count": 43,
     "metadata": {},
     "output_type": "execute_result"
    }
   ],
   "source": [
    "df = pd.read_csv(\"flatfox.csv\")\n",
    "df = df.drop(df[df[\"offer_type\"] != \"RENT\"].index)\n",
    "df.fillna({\"year_renovated\": df[\"year_built\"]}, inplace=True)\n",
    "df = df.dropna(subset=[\"price_display\"])\n",
    "df = df.drop([\n",
    "    \"pk\",\n",
    "    \"slug\",\n",
    "    \"url\",\n",
    "    \"short_url\",\n",
    "    \"rent_net\",\n",
    "    \"rent_charges\",\n",
    "    \"rent_gross\",\n",
    "    \"offer_type\",\n",
    "    \"submit_url\",\n",
    "    \"status\",\n",
    "    \"created\",\n",
    "    \"reference\",\n",
    "    \"ref_property\",\n",
    "    \"ref_house\",\n",
    "    \"ref_object\",\n",
    "    \"alternative_reference\",\n",
    "    \"published\",\n",
    "    \"short_title\",\n",
    "    \"public_title\",\n",
    "    \"pitch_title\",\n",
    "    \"description_title\",\n",
    "    \"description\",\n",
    "    \"attributes\",\n",
    "    \"public_address\",\n",
    "    \"video_url\",\n",
    "    \"tour_url\",\n",
    "    \"website_url\",\n",
    "    \"live_viewing_url\",\n",
    "    \"cover_image\",\n",
    "    \"images\",\n",
    "    \"documents\",\n",
    "    \"agency\",\n",
    "    \"rent_title\"], axis=1)\n",
    "df.describe()"
   ],
   "metadata": {
    "collapsed": false,
    "ExecuteTime": {
     "end_time": "2024-07-02T13:42:45.410674Z",
     "start_time": "2024-07-02T13:42:43.140914Z"
    }
   },
   "id": "20bb757ccd29f5e3",
   "execution_count": 43
  },
  {
   "cell_type": "code",
   "outputs": [
    {
     "data": {
      "text/plain": "object_category           21063\nobject_type               21063\nprice_display             21040\nprice_display_type        21040\nprice_unit                21063\nrent_net                  15224\nrent_charges              13669\nrent_gross                17257\nsurface_living            11708\nsurface_property            965\nsurface_usable             5915\nsurface_usable_minimum      305\nvolume                     2096\nspace_display             16018\nnumber_of_rooms           13394\nfloor                     16476\nis_furnished              21063\nis_temporary              21063\nis_selling_furniture      21063\nstreet                    18517\nzipcode                   21063\ncity                      21063\nlatitude                  21063\nlongitude                 21063\nyear_built                 8510\nyear_renovated             9604\nmoving_date_type          21063\nmoving_date                7449\nreserved                  21063\nlivingspace               16018\ndtype: int64"
     },
     "execution_count": 24,
     "metadata": {},
     "output_type": "execute_result"
    }
   ],
   "source": [],
   "metadata": {
    "collapsed": false,
    "ExecuteTime": {
     "end_time": "2024-07-02T13:25:56.861068Z",
     "start_time": "2024-07-02T13:25:56.759964Z"
    }
   },
   "id": "cd469061d686cd13",
   "execution_count": 24
  }
 ],
 "metadata": {
  "kernelspec": {
   "display_name": "Python 3",
   "language": "python",
   "name": "python3"
  },
  "language_info": {
   "codemirror_mode": {
    "name": "ipython",
    "version": 2
   },
   "file_extension": ".py",
   "mimetype": "text/x-python",
   "name": "python",
   "nbconvert_exporter": "python",
   "pygments_lexer": "ipython2",
   "version": "2.7.6"
  }
 },
 "nbformat": 4,
 "nbformat_minor": 5
}
