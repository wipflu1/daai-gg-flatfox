{
 "cells": [
  {
   "cell_type": "markdown",
   "source": [],
   "metadata": {
    "collapsed": false
   },
   "id": "2dacbbe7fbb4cdc4"
  },
  {
   "cell_type": "code",
   "execution_count": 11,
   "id": "initial_id",
   "metadata": {
    "collapsed": true,
    "ExecuteTime": {
     "end_time": "2024-07-02T11:41:25.802511Z",
     "start_time": "2024-07-02T11:41:25.797781Z"
    }
   },
   "outputs": [],
   "source": [
    "import pandas as pd"
   ]
  },
  {
   "cell_type": "markdown",
   "source": [],
   "metadata": {
    "collapsed": false
   },
   "id": "1ab6248c833ee646"
  },
  {
   "cell_type": "code",
   "outputs": [
    {
     "name": "stderr",
     "output_type": "stream",
     "text": [
      "/tmp/ipykernel_70474/148559220.py:1: DtypeWarning: Columns (52) have mixed types. Specify dtype option on import or set low_memory=False.\n",
      "  df = pd.read_csv(\"flatfox.csv\")\n"
     ]
    },
    {
     "data": {
      "text/plain": "  offer_type object_category  object_type  price_display price_display_type  \\\n0       RENT        INDUSTRY       OFFICE            NaN                NaN   \n1       RENT            PARK  GARAGE_SLOT          130.0              TOTAL   \n2       RENT        INDUSTRY      ATELIER         2325.0              TOTAL   \n3       RENT       APARTMENT  SINGLE_ROOM          610.0              TOTAL   \n4       RENT          SHARED  SHARED_FLAT         1350.0              TOTAL   \n\n  price_unit  rent_net  rent_charges  rent_gross  surface_living  ...  \\\n0    monthly       NaN           NaN         NaN             NaN  ...   \n1    monthly     130.0           0.0         NaN             NaN  ...   \n2    monthly    1980.0         345.0         NaN             NaN  ...   \n3    monthly       NaN           NaN       610.0            17.0  ...   \n4    monthly       NaN           NaN      1350.0            18.0  ...   \n\n   zipcode               city   latitude  longitude  year_built  \\\n0     9430  St. Margrethen SG  47.452350   9.635814      1977.0   \n1     5600           Lenzburg  47.384753   8.182750         NaN   \n2     8600          Dübendorf  47.397886   8.600850      2018.0   \n3     9008         St. Gallen  47.442430   9.392510         NaN   \n4     8005             Zürich  47.389303   8.513200      2004.0   \n\n   year_renovated  moving_date_type  moving_date  reserved  livingspace  \n0             NaN               agr          NaN     False        127.0  \n1             NaN               agr          NaN     False          NaN  \n2             NaN               imm          NaN     False        119.0  \n3             NaN               dat   2018-09-01     False         17.0  \n4             NaN               dat   2023-04-01     False         18.0  \n\n[5 rows x 31 columns]",
      "text/html": "<div>\n<style scoped>\n    .dataframe tbody tr th:only-of-type {\n        vertical-align: middle;\n    }\n\n    .dataframe tbody tr th {\n        vertical-align: top;\n    }\n\n    .dataframe thead th {\n        text-align: right;\n    }\n</style>\n<table border=\"1\" class=\"dataframe\">\n  <thead>\n    <tr style=\"text-align: right;\">\n      <th></th>\n      <th>offer_type</th>\n      <th>object_category</th>\n      <th>object_type</th>\n      <th>price_display</th>\n      <th>price_display_type</th>\n      <th>price_unit</th>\n      <th>rent_net</th>\n      <th>rent_charges</th>\n      <th>rent_gross</th>\n      <th>surface_living</th>\n      <th>...</th>\n      <th>zipcode</th>\n      <th>city</th>\n      <th>latitude</th>\n      <th>longitude</th>\n      <th>year_built</th>\n      <th>year_renovated</th>\n      <th>moving_date_type</th>\n      <th>moving_date</th>\n      <th>reserved</th>\n      <th>livingspace</th>\n    </tr>\n  </thead>\n  <tbody>\n    <tr>\n      <th>0</th>\n      <td>RENT</td>\n      <td>INDUSTRY</td>\n      <td>OFFICE</td>\n      <td>NaN</td>\n      <td>NaN</td>\n      <td>monthly</td>\n      <td>NaN</td>\n      <td>NaN</td>\n      <td>NaN</td>\n      <td>NaN</td>\n      <td>...</td>\n      <td>9430</td>\n      <td>St. Margrethen SG</td>\n      <td>47.452350</td>\n      <td>9.635814</td>\n      <td>1977.0</td>\n      <td>NaN</td>\n      <td>agr</td>\n      <td>NaN</td>\n      <td>False</td>\n      <td>127.0</td>\n    </tr>\n    <tr>\n      <th>1</th>\n      <td>RENT</td>\n      <td>PARK</td>\n      <td>GARAGE_SLOT</td>\n      <td>130.0</td>\n      <td>TOTAL</td>\n      <td>monthly</td>\n      <td>130.0</td>\n      <td>0.0</td>\n      <td>NaN</td>\n      <td>NaN</td>\n      <td>...</td>\n      <td>5600</td>\n      <td>Lenzburg</td>\n      <td>47.384753</td>\n      <td>8.182750</td>\n      <td>NaN</td>\n      <td>NaN</td>\n      <td>agr</td>\n      <td>NaN</td>\n      <td>False</td>\n      <td>NaN</td>\n    </tr>\n    <tr>\n      <th>2</th>\n      <td>RENT</td>\n      <td>INDUSTRY</td>\n      <td>ATELIER</td>\n      <td>2325.0</td>\n      <td>TOTAL</td>\n      <td>monthly</td>\n      <td>1980.0</td>\n      <td>345.0</td>\n      <td>NaN</td>\n      <td>NaN</td>\n      <td>...</td>\n      <td>8600</td>\n      <td>Dübendorf</td>\n      <td>47.397886</td>\n      <td>8.600850</td>\n      <td>2018.0</td>\n      <td>NaN</td>\n      <td>imm</td>\n      <td>NaN</td>\n      <td>False</td>\n      <td>119.0</td>\n    </tr>\n    <tr>\n      <th>3</th>\n      <td>RENT</td>\n      <td>APARTMENT</td>\n      <td>SINGLE_ROOM</td>\n      <td>610.0</td>\n      <td>TOTAL</td>\n      <td>monthly</td>\n      <td>NaN</td>\n      <td>NaN</td>\n      <td>610.0</td>\n      <td>17.0</td>\n      <td>...</td>\n      <td>9008</td>\n      <td>St. Gallen</td>\n      <td>47.442430</td>\n      <td>9.392510</td>\n      <td>NaN</td>\n      <td>NaN</td>\n      <td>dat</td>\n      <td>2018-09-01</td>\n      <td>False</td>\n      <td>17.0</td>\n    </tr>\n    <tr>\n      <th>4</th>\n      <td>RENT</td>\n      <td>SHARED</td>\n      <td>SHARED_FLAT</td>\n      <td>1350.0</td>\n      <td>TOTAL</td>\n      <td>monthly</td>\n      <td>NaN</td>\n      <td>NaN</td>\n      <td>1350.0</td>\n      <td>18.0</td>\n      <td>...</td>\n      <td>8005</td>\n      <td>Zürich</td>\n      <td>47.389303</td>\n      <td>8.513200</td>\n      <td>2004.0</td>\n      <td>NaN</td>\n      <td>dat</td>\n      <td>2023-04-01</td>\n      <td>False</td>\n      <td>18.0</td>\n    </tr>\n  </tbody>\n</table>\n<p>5 rows × 31 columns</p>\n</div>"
     },
     "execution_count": 27,
     "metadata": {},
     "output_type": "execute_result"
    }
   ],
   "source": [
    "df = pd.read_csv(\"flatfox.csv\")\n",
    "#kick sale\n",
    "df = df.drop([\n",
    "    \"pk\",\n",
    "    \"slug\",\n",
    "    \"url\",\n",
    "    \"short_url\",\n",
    "    \"offer_type\",\n",
    "    \"submit_url\",\n",
    "    \"status\",\n",
    "    \"created\",\n",
    "    \"reference\",\n",
    "    \"ref_property\",\n",
    "    \"ref_house\",\n",
    "    \"ref_object\",\n",
    "    \"alternative_reference\",\n",
    "    \"published\",\n",
    "    \"short_title\",\n",
    "    \"public_title\",\n",
    "    \"pitch_title\",\n",
    "    \"description_title\",\n",
    "    \"description\",\n",
    "    \"attributes\",\n",
    "    \"public_address\",\n",
    "    \"video_url\",\n",
    "    \"tour_url\",\n",
    "    \"website_url\",\n",
    "    \"live_viewing_url\",\n",
    "    \"cover_image\",\n",
    "    \"images\",\n",
    "    \"documents\",\n",
    "    \"agency\",\n",
    "    \"rent_title\"], axis=1)\n",
    "df.head()"
   ],
   "metadata": {
    "collapsed": false,
    "ExecuteTime": {
     "end_time": "2024-07-02T12:16:56.604871Z",
     "start_time": "2024-07-02T12:16:54.363496Z"
    }
   },
   "id": "20bb757ccd29f5e3",
   "execution_count": 27
  },
  {
   "cell_type": "code",
   "outputs": [],
   "source": [],
   "metadata": {
    "collapsed": false
   },
   "id": "cd469061d686cd13"
  }
 ],
 "metadata": {
  "kernelspec": {
   "display_name": "Python 3",
   "language": "python",
   "name": "python3"
  },
  "language_info": {
   "codemirror_mode": {
    "name": "ipython",
    "version": 2
   },
   "file_extension": ".py",
   "mimetype": "text/x-python",
   "name": "python",
   "nbconvert_exporter": "python",
   "pygments_lexer": "ipython2",
   "version": "2.7.6"
  }
 },
 "nbformat": 4,
 "nbformat_minor": 5
}
