{
 "cells": [
  {
   "metadata": {},
   "cell_type": "markdown",
   "source": [
    "# Image Analysis\n",
    "\n",
    "## Imports"
   ],
   "id": "4b2f6fbfa207da33"
  },
  {
   "cell_type": "code",
   "id": "initial_id",
   "metadata": {
    "collapsed": true,
    "ExecuteTime": {
     "end_time": "2024-07-09T09:10:12.059777Z",
     "start_time": "2024-07-09T09:10:12.055070Z"
    }
   },
   "source": [
    "import pandas as pd\n",
    "import numpy as np\n",
    "import requests\n",
    "import matplotlib.pyplot as plt\n",
    "from sklearn.cluster import KMeans"
   ],
   "outputs": [],
   "execution_count": 27
  },
  {
   "metadata": {},
   "cell_type": "markdown",
   "source": "## Method definitions",
   "id": "34a8a3cd482c98b1"
  },
  {
   "metadata": {
    "ExecuteTime": {
     "end_time": "2024-07-09T11:17:57.356497Z",
     "start_time": "2024-07-09T11:17:57.341569Z"
    }
   },
   "cell_type": "code",
   "source": [
    "def categorize(df, categories):\n",
    "    for category in categories:\n",
    "        df[category] = pd.Categorical(df[category]).codes\n",
    "    return df\n",
    "\n",
    "def numberize(df, numerics):\n",
    "    for numeric in numerics:\n",
    "        df[numeric] = df[numeric].astype(\"float\")\n",
    "    return df\n",
    "\n",
    "def clean_year(year):\n",
    "    return 2024 - year\n",
    "\n",
    "# Print iterations progress\n",
    "def print_progress_bar (iteration, total, prefix = '', suffix = '', decimals = 1, length = 100, fill = '█', printEnd = \"\\r\"):\n",
    "    \"\"\"\n",
    "    Call in a loop to create terminal progress bar\n",
    "    @params:\n",
    "        iteration   - Required  : current iteration (Int)\n",
    "        total       - Required  : total iterations (Int)\n",
    "        prefix      - Optional  : prefix string (Str)\n",
    "        suffix      - Optional  : suffix string (Str)\n",
    "        decimals    - Optional  : positive number of decimals in percent complete (Int)\n",
    "        length      - Optional  : character length of bar (Int)\n",
    "        fill        - Optional  : bar fill character (Str)\n",
    "        printEnd    - Optional  : end character (e.g. \"\\r\", \"\\r\\n\") (Str)\n",
    "    \"\"\"\n",
    "    percent = (\"{0:.\" + str(decimals) + \"f}\").format(100 * (iteration / float(total)))\n",
    "    filled_length = int(length * iteration // total)\n",
    "    bar = fill * filled_length + '-' * (length - filled_length)\n",
    "    print(f'\\r{prefix} |{bar}| {percent}% {suffix}', end = printEnd)\n",
    "    # Print New Line on Complete\n",
    "    if iteration == total: \n",
    "        print()"
   ],
   "id": "25cd82e0b472513f",
   "outputs": [],
   "execution_count": 76
  },
  {
   "metadata": {},
   "cell_type": "markdown",
   "source": "## Prepare data",
   "id": "1ba0b1b2105cb937"
  },
  {
   "metadata": {
    "ExecuteTime": {
     "end_time": "2024-07-09T09:10:18.886912Z",
     "start_time": "2024-07-09T09:10:16.590832Z"
    }
   },
   "cell_type": "code",
   "source": [
    "df = pd.read_csv(\"../flatfox.csv\", low_memory=False)\n",
    "df.drop(df[df[\"offer_type\"] != \"RENT\"].index, inplace=True)\n",
    "relevant_cat = [\"APARTMENT\", \"HOUSE\"]\n",
    "df.drop(df[~df[\"object_category\"].isin(relevant_cat)].index, inplace=True)\n",
    "# remove columns with wrong year\n",
    "df.drop(df[df[\"year_built\"] < 1800].index, inplace=True)\n",
    "df.drop(df[df[\"year_built\"] > 2030].index, inplace=True)\n",
    "# NaN  in floors is replaced by 0\n",
    "# year_built has unrealistic values (for example 19 Million)\n",
    "#df['year_built'] = df['year_built'].apply(clean_year_built)\n",
    "\n",
    "df.fillna({\"year_built\": df[\"year_built\"].mean(), \"floor\": 0.0, \"year_renovated\": df[\"year_built\"], \"number_of_rooms\": 0.0, \"livingspace\": 0.0}, inplace=True)\n",
    "\n",
    "df.loc[df[\"year_renovated\"] < 1800, \"year_renovated\"] = df[\"year_built\"]\n",
    "\n",
    "df[\"year_renovated\"] = df[\"year_renovated\"].apply(clean_year)\n",
    "df[\"year_built\"] = df[\"year_built\"].apply(clean_year)\n",
    "\n",
    "df.dropna(subset=[\"price_display\"], inplace=True)\n",
    "\n",
    "relevant_cols = [\"pk\", \"price_display\", \"url\", \"images\"]\n",
    "\n",
    "df = df[relevant_cols]\n",
    "\n",
    "df.head()"
   ],
   "id": "be85464ec5c3f166",
   "outputs": [
    {
     "data": {
      "text/plain": [
       "       pk  price_display                                                url  \\\n",
       "3   46167          610.0       /en/flat/waldstrasse-5-9008-st-gallen/46167/   \n",
       "5   56960         2370.0     /en/flat/loft-valangines-2000-neuchatel/56960/   \n",
       "23  97455         3104.0  /en/flat/gerechtigkeitsgasse-8-8001-zurich/97455/   \n",
       "24  97456         4246.0  /en/flat/gerechtigkeitsgasse-8-8001-zurich/97456/   \n",
       "25  97457         5076.0  /en/flat/gerechtigkeitsgasse-8-8001-zurich/97457/   \n",
       "\n",
       "                                               images  \n",
       "3    [483988, 483989, 483990, 483991, 483992, 483993]  \n",
       "5   [622263, 622270, 622264, 622265, 622266, 62226...  \n",
       "23                        [1347873, 1347871, 1347872]  \n",
       "24      [1347880, 1347879, 1347878, 1347877, 1347881]  \n",
       "25               [1347886, 1347885, 1347887, 1347882]  "
      ],
      "text/html": [
       "<div>\n",
       "<style scoped>\n",
       "    .dataframe tbody tr th:only-of-type {\n",
       "        vertical-align: middle;\n",
       "    }\n",
       "\n",
       "    .dataframe tbody tr th {\n",
       "        vertical-align: top;\n",
       "    }\n",
       "\n",
       "    .dataframe thead th {\n",
       "        text-align: right;\n",
       "    }\n",
       "</style>\n",
       "<table border=\"1\" class=\"dataframe\">\n",
       "  <thead>\n",
       "    <tr style=\"text-align: right;\">\n",
       "      <th></th>\n",
       "      <th>pk</th>\n",
       "      <th>price_display</th>\n",
       "      <th>url</th>\n",
       "      <th>images</th>\n",
       "    </tr>\n",
       "  </thead>\n",
       "  <tbody>\n",
       "    <tr>\n",
       "      <th>3</th>\n",
       "      <td>46167</td>\n",
       "      <td>610.0</td>\n",
       "      <td>/en/flat/waldstrasse-5-9008-st-gallen/46167/</td>\n",
       "      <td>[483988, 483989, 483990, 483991, 483992, 483993]</td>\n",
       "    </tr>\n",
       "    <tr>\n",
       "      <th>5</th>\n",
       "      <td>56960</td>\n",
       "      <td>2370.0</td>\n",
       "      <td>/en/flat/loft-valangines-2000-neuchatel/56960/</td>\n",
       "      <td>[622263, 622270, 622264, 622265, 622266, 62226...</td>\n",
       "    </tr>\n",
       "    <tr>\n",
       "      <th>23</th>\n",
       "      <td>97455</td>\n",
       "      <td>3104.0</td>\n",
       "      <td>/en/flat/gerechtigkeitsgasse-8-8001-zurich/97455/</td>\n",
       "      <td>[1347873, 1347871, 1347872]</td>\n",
       "    </tr>\n",
       "    <tr>\n",
       "      <th>24</th>\n",
       "      <td>97456</td>\n",
       "      <td>4246.0</td>\n",
       "      <td>/en/flat/gerechtigkeitsgasse-8-8001-zurich/97456/</td>\n",
       "      <td>[1347880, 1347879, 1347878, 1347877, 1347881]</td>\n",
       "    </tr>\n",
       "    <tr>\n",
       "      <th>25</th>\n",
       "      <td>97457</td>\n",
       "      <td>5076.0</td>\n",
       "      <td>/en/flat/gerechtigkeitsgasse-8-8001-zurich/97457/</td>\n",
       "      <td>[1347886, 1347885, 1347887, 1347882]</td>\n",
       "    </tr>\n",
       "  </tbody>\n",
       "</table>\n",
       "</div>"
      ]
     },
     "execution_count": 29,
     "metadata": {},
     "output_type": "execute_result"
    }
   ],
   "execution_count": 29
  },
  {
   "metadata": {},
   "cell_type": "markdown",
   "source": "## Clustering",
   "id": "8d55a814519a3430"
  },
  {
   "metadata": {
    "ExecuteTime": {
     "end_time": "2024-07-09T09:10:33.728806Z",
     "start_time": "2024-07-09T09:10:32.889119Z"
    }
   },
   "cell_type": "code",
   "source": [
    "data = df[\"price_display\"].values.reshape(-1, 1)\n",
    "\n",
    "# Apply K-means clustering\n",
    "kmeans = KMeans(n_clusters=5, random_state=0).fit(data)\n",
    "clusters = kmeans.predict(data)\n",
    "centers = kmeans.cluster_centers_\n",
    "\n",
    "# Plot the data points and cluster centers\n",
    "plt.scatter(data, np.zeros_like(data), c=clusters, cmap='viridis', marker='o')\n",
    "plt.scatter(centers, np.zeros_like(centers), c='red', marker='x')\n",
    "plt.title('1D K-Means Clustering')\n",
    "plt.xlabel('Data points')\n",
    "plt.show()"
   ],
   "id": "6414537711234a4f",
   "outputs": [
    {
     "data": {
      "text/plain": [
       "<Figure size 640x480 with 1 Axes>"
      ],
      "image/png": "[encoded data removed]"
     },
     "metadata": {},
     "output_type": "display_data"
    }
   ],
   "execution_count": 30
  },
  {
   "metadata": {},
   "cell_type": "markdown",
   "source": "## Download images",
   "id": "c6587a6138cd4b29"
  },
  {
   "metadata": {
    "jupyter": {
     "is_executing": true
    },
    "ExecuteTime": {
     "start_time": "2024-07-09T12:45:58.531885Z"
    }
   },
   "cell_type": "code",
   "source": [
    "QUERY = \"expand=images\"\n",
    "BASE_URL = \"https://flatfox.ch\"\n",
    "API_BASE = \"api/v1/public-listing\"\n",
    "\n",
    "order = [0, 2, 4, 1, 3]\n",
    "reverse_order = [0, 3, 1, 4, 2] # folder = reverse_order[kmeans_prediction]\n",
    "pk = 0\n",
    "i = 0\n",
    "\n",
    "def get_folder(index):\n",
    "    return reverse_order[index]\n",
    "\n",
    "def get_cluster(cost):\n",
    "    array = np.array([cost]).reshape(-1, 1)\n",
    "    prediction = kmeans.predict(array)\n",
    "    return get_folder(prediction[0])\n",
    "\n",
    "def download_images(images, folder):\n",
    "    for image in images:\n",
    "        url = image[\"url\"]\n",
    "        response = requests.get(f\"{BASE_URL}/{url}\")\n",
    "        with open(f\"images/{folder}/{image['pk']}.jpg\", \"wb\") as file:\n",
    "            file.write(response.content)\n",
    "\n",
    "for index, row in df.iterrows():\n",
    "    pk = row[\"pk\"]\n",
    "    price = row[\"price_display\"]\n",
    "    \n",
    "    folder = get_cluster(price)\n",
    "    result = requests.get(f\"{BASE_URL}/{API_BASE}/{pk}/?{QUERY}\").json()\n",
    "    images = result[\"images\"]\n",
    "    download_images(images, folder)\n",
    "    print_progress_bar(++i, df.shape[0])\n",
    "    \n",
    "print(df.shape[0])\n",
    "\n",
    "pk = 46167\n",
    "result = requests.get(f\"{BASE_URL}/{API_BASE}/{pk}/?{QUERY}\").json()\n",
    "print(result[\"images\"][0][\"url\"])\n",
    "print(get_cluster(3000))"
   ],
   "id": "7707e6be92beff5a",
   "outputs": [
    {
     "name": "stdout",
     "output_type": "stream",
     "text": [
      " |███████████-----------------------------------------------------------------------------------------| 11.8% \r"
     ]
    }
   ],
   "execution_count": null
  }
 ],
 "metadata": {
  "kernelspec": {
   "display_name": "Python 3",
   "language": "python",
   "name": "python3"
  },
  "language_info": {
   "codemirror_mode": {
    "name": "ipython",
    "version": 2
   },
   "file_extension": ".py",
   "mimetype": "text/x-python",
   "name": "python",
   "nbconvert_exporter": "python",
   "pygments_lexer": "ipython2",
   "version": "2.7.6"
  }
 },
 "nbformat": 4,
 "nbformat_minor": 5
}
