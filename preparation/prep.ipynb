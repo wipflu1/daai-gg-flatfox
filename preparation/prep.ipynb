{
 "cells": [
  {
   "cell_type": "markdown",
   "source": [
    "# Imports"
   ],
   "metadata": {
    "collapsed": false
   },
   "id": "2dacbbe7fbb4cdc4"
  },
  {
   "cell_type": "code",
   "execution_count": 28,
   "id": "initial_id",
   "metadata": {
    "collapsed": true,
    "ExecuteTime": {
     "end_time": "2024-07-03T12:36:48.920823Z",
     "start_time": "2024-07-03T12:36:48.915515Z"
    }
   },
   "outputs": [],
   "source": [
    "import numpy as np\n",
    "import pandas as pd"
   ]
  },
  {
   "cell_type": "markdown",
   "source": [
    "Initialize functions"
   ],
   "metadata": {
    "collapsed": false
   },
   "id": "57823dfb87c092aa"
  },
  {
   "cell_type": "code",
   "outputs": [],
   "source": [
    "def categorize(df, categories):\n",
    "    for category in categories:\n",
    "        df[category] = pd.Categorical(df[category]).codes\n",
    "    return df\n",
    "\n",
    "def numberize(df, numerics):\n",
    "    for numeric in numerics:\n",
    "        df[numeric] = df[numeric].astype(\"float\")\n",
    "    return df\n",
    "\n",
    "def clean_year(year):\n",
    "    return 2024 - year\n",
    "\n",
    "# Function to clean year_built values\n",
    "def clean_year_built(year):\n",
    "    try:\n",
    "        # Attempt to convert the value to an integer\n",
    "        year = int(float(year))  # Handles both integer and float strings\n",
    "        year_str = str(year)\n",
    "\n",
    "        # Ensure the string is exactly 4 characters long\n",
    "        if len(year_str) > 4:\n",
    "            return int(year_str[:4])\n",
    "        elif len(year_str) < 4:\n",
    "            return int(year_str.ljust(4, '0'))  # Pads with zeros if less than 4 digits\n",
    "        else:\n",
    "            return year\n",
    "    except (ValueError, TypeError):\n",
    "        # Return NaN for non-numeric values or None\n",
    "        return pd.NA"
   ],
   "metadata": {
    "collapsed": false,
    "ExecuteTime": {
     "end_time": "2024-07-03T12:40:05.176962Z",
     "start_time": "2024-07-03T12:40:05.166031Z"
    }
   },
   "id": "d4a5ee89bab12c43",
   "execution_count": 32
  },
  {
   "cell_type": "markdown",
   "source": [
    "load and prepare the data"
   ],
   "metadata": {
    "collapsed": false
   },
   "id": "e1b96fc10d53a41f"
  },
  {
   "cell_type": "code",
   "outputs": [
    {
     "data": {
      "text/plain": "       object_category   object_type  price_display  price_display_type  \\\ncount     20713.000000  20713.000000   20713.000000        20713.000000   \nmean          2.306185     19.433496    1581.338387            0.953556   \nstd           2.741081     18.112954    1534.722897            0.210450   \nmin           0.000000      0.000000       1.000000            0.000000   \n25%           0.000000      2.000000     398.000000            1.000000   \n50%           0.000000     16.000000    1460.000000            1.000000   \n75%           5.000000     37.000000    2141.000000            1.000000   \nmax           8.000000     58.000000   62539.000000            1.000000   \n\n         price_unit  number_of_rooms         floor  is_furnished  \\\ncount  20713.000000     20713.000000  20713.000000  20713.000000   \nmean       1.139526         1.927027      1.298846      0.143050   \nstd        0.632149         1.839060      2.109293      0.350133   \nmin        0.000000         0.000000     -8.000000      0.000000   \n25%        1.000000         0.000000      0.000000      0.000000   \n50%        1.000000         1.500000      1.000000      0.000000   \n75%        1.000000         3.500000      2.000000      0.000000   \nmax        4.000000        10.500000     31.000000      1.000000   \n\n       is_temporary  is_selling_furniture       zipcode          city  \\\ncount  20713.000000          20713.000000  20713.000000  20713.000000   \nmean       0.065273              0.023801   5563.757592   1120.005987   \nstd        0.247013              0.152434   2743.831775    683.648115   \nmin        0.000000              0.000000   1000.000000      0.000000   \n25%        0.000000              0.000000   3097.000000    500.000000   \n50%        0.000000              0.000000   5430.000000   1101.000000   \n75%        0.000000              0.000000   8152.000000   1732.000000   \nmax        1.000000              1.000000   9657.000000   2157.000000   \n\n           latitude     longitude    year_built  year_renovated  \\\ncount  20713.000000  20713.000000  20713.000000    20713.000000   \nmean      47.159021      8.024401     38.998547       31.567108   \nstd        0.404267      0.847758     21.681407       19.387146   \nmin       45.826182      5.991881     -2.000000       -3.000000   \n25%       46.956562      7.467781     38.946387       15.000000   \n50%       47.346442      8.207061     38.946387       38.946387   \n75%       47.430642      8.587571     38.946387       38.946387   \nmax       47.793652     10.364311    224.000000      224.000000   \n\n       moving_date_type      reserved   livingspace  \ncount      20713.000000  20713.000000  20713.000000  \nmean           1.052914      0.000338     81.059962  \nstd            0.802601      0.018381    673.658569  \nmin            0.000000      0.000000      0.000000  \n25%            0.000000      0.000000      0.000000  \n50%            1.000000      0.000000     58.000000  \n75%            2.000000      0.000000     94.000000  \nmax            2.000000      1.000000  90000.000000  ",
      "text/html": "<div>\n<style scoped>\n    .dataframe tbody tr th:only-of-type {\n        vertical-align: middle;\n    }\n\n    .dataframe tbody tr th {\n        vertical-align: top;\n    }\n\n    .dataframe thead th {\n        text-align: right;\n    }\n</style>\n<table border=\"1\" class=\"dataframe\">\n  <thead>\n    <tr style=\"text-align: right;\">\n      <th></th>\n      <th>object_category</th>\n      <th>object_type</th>\n      <th>price_display</th>\n      <th>price_display_type</th>\n      <th>price_unit</th>\n      <th>number_of_rooms</th>\n      <th>floor</th>\n      <th>is_furnished</th>\n      <th>is_temporary</th>\n      <th>is_selling_furniture</th>\n      <th>zipcode</th>\n      <th>city</th>\n      <th>latitude</th>\n      <th>longitude</th>\n      <th>year_built</th>\n      <th>year_renovated</th>\n      <th>moving_date_type</th>\n      <th>reserved</th>\n      <th>livingspace</th>\n    </tr>\n  </thead>\n  <tbody>\n    <tr>\n      <th>count</th>\n      <td>20713.000000</td>\n      <td>20713.000000</td>\n      <td>20713.000000</td>\n      <td>20713.000000</td>\n      <td>20713.000000</td>\n      <td>20713.000000</td>\n      <td>20713.000000</td>\n      <td>20713.000000</td>\n      <td>20713.000000</td>\n      <td>20713.000000</td>\n      <td>20713.000000</td>\n      <td>20713.000000</td>\n      <td>20713.000000</td>\n      <td>20713.000000</td>\n      <td>20713.000000</td>\n      <td>20713.000000</td>\n      <td>20713.000000</td>\n      <td>20713.000000</td>\n      <td>20713.000000</td>\n    </tr>\n    <tr>\n      <th>mean</th>\n      <td>2.306185</td>\n      <td>19.433496</td>\n      <td>1581.338387</td>\n      <td>0.953556</td>\n      <td>1.139526</td>\n      <td>1.927027</td>\n      <td>1.298846</td>\n      <td>0.143050</td>\n      <td>0.065273</td>\n      <td>0.023801</td>\n      <td>5563.757592</td>\n      <td>1120.005987</td>\n      <td>47.159021</td>\n      <td>8.024401</td>\n      <td>38.998547</td>\n      <td>31.567108</td>\n      <td>1.052914</td>\n      <td>0.000338</td>\n      <td>81.059962</td>\n    </tr>\n    <tr>\n      <th>std</th>\n      <td>2.741081</td>\n      <td>18.112954</td>\n      <td>1534.722897</td>\n      <td>0.210450</td>\n      <td>0.632149</td>\n      <td>1.839060</td>\n      <td>2.109293</td>\n      <td>0.350133</td>\n      <td>0.247013</td>\n      <td>0.152434</td>\n      <td>2743.831775</td>\n      <td>683.648115</td>\n      <td>0.404267</td>\n      <td>0.847758</td>\n      <td>21.681407</td>\n      <td>19.387146</td>\n      <td>0.802601</td>\n      <td>0.018381</td>\n      <td>673.658569</td>\n    </tr>\n    <tr>\n      <th>min</th>\n      <td>0.000000</td>\n      <td>0.000000</td>\n      <td>1.000000</td>\n      <td>0.000000</td>\n      <td>0.000000</td>\n      <td>0.000000</td>\n      <td>-8.000000</td>\n      <td>0.000000</td>\n      <td>0.000000</td>\n      <td>0.000000</td>\n      <td>1000.000000</td>\n      <td>0.000000</td>\n      <td>45.826182</td>\n      <td>5.991881</td>\n      <td>-2.000000</td>\n      <td>-3.000000</td>\n      <td>0.000000</td>\n      <td>0.000000</td>\n      <td>0.000000</td>\n    </tr>\n    <tr>\n      <th>25%</th>\n      <td>0.000000</td>\n      <td>2.000000</td>\n      <td>398.000000</td>\n      <td>1.000000</td>\n      <td>1.000000</td>\n      <td>0.000000</td>\n      <td>0.000000</td>\n      <td>0.000000</td>\n      <td>0.000000</td>\n      <td>0.000000</td>\n      <td>3097.000000</td>\n      <td>500.000000</td>\n      <td>46.956562</td>\n      <td>7.467781</td>\n      <td>38.946387</td>\n      <td>15.000000</td>\n      <td>0.000000</td>\n      <td>0.000000</td>\n      <td>0.000000</td>\n    </tr>\n    <tr>\n      <th>50%</th>\n      <td>0.000000</td>\n      <td>16.000000</td>\n      <td>1460.000000</td>\n      <td>1.000000</td>\n      <td>1.000000</td>\n      <td>1.500000</td>\n      <td>1.000000</td>\n      <td>0.000000</td>\n      <td>0.000000</td>\n      <td>0.000000</td>\n      <td>5430.000000</td>\n      <td>1101.000000</td>\n      <td>47.346442</td>\n      <td>8.207061</td>\n      <td>38.946387</td>\n      <td>38.946387</td>\n      <td>1.000000</td>\n      <td>0.000000</td>\n      <td>58.000000</td>\n    </tr>\n    <tr>\n      <th>75%</th>\n      <td>5.000000</td>\n      <td>37.000000</td>\n      <td>2141.000000</td>\n      <td>1.000000</td>\n      <td>1.000000</td>\n      <td>3.500000</td>\n      <td>2.000000</td>\n      <td>0.000000</td>\n      <td>0.000000</td>\n      <td>0.000000</td>\n      <td>8152.000000</td>\n      <td>1732.000000</td>\n      <td>47.430642</td>\n      <td>8.587571</td>\n      <td>38.946387</td>\n      <td>38.946387</td>\n      <td>2.000000</td>\n      <td>0.000000</td>\n      <td>94.000000</td>\n    </tr>\n    <tr>\n      <th>max</th>\n      <td>8.000000</td>\n      <td>58.000000</td>\n      <td>62539.000000</td>\n      <td>1.000000</td>\n      <td>4.000000</td>\n      <td>10.500000</td>\n      <td>31.000000</td>\n      <td>1.000000</td>\n      <td>1.000000</td>\n      <td>1.000000</td>\n      <td>9657.000000</td>\n      <td>2157.000000</td>\n      <td>47.793652</td>\n      <td>10.364311</td>\n      <td>224.000000</td>\n      <td>224.000000</td>\n      <td>2.000000</td>\n      <td>1.000000</td>\n      <td>90000.000000</td>\n    </tr>\n  </tbody>\n</table>\n</div>"
     },
     "execution_count": 38,
     "metadata": {},
     "output_type": "execute_result"
    }
   ],
   "source": [
    "df = pd.read_csv(\"flatfox.csv\", low_memory=False)\n",
    "df.drop(df[df[\"offer_type\"] != \"RENT\"].index, inplace=True)\n",
    "# remove columns with wrong year\n",
    "df.drop(df[df[\"year_built\"] < 1800].index, inplace=True)\n",
    "df.drop(df[df[\"year_built\"] > 2030].index, inplace=True)\n",
    "# NaN  in floors is replaced by 0\n",
    "# year_built has unrealistic values (for example 19 Million)\n",
    "#df['year_built'] = df['year_built'].apply(clean_year_built)\n",
    "\n",
    "df.fillna({\"year_built\": df[\"year_built\"].mean(), \"floor\": 0.0, \"year_renovated\": df[\"year_built\"], \"number_of_rooms\": 0.0, \"livingspace\": 0.0}, inplace=True)\n",
    "\n",
    "df.loc[df[\"year_renovated\"] < 1800, \"year_renovated\"] = df[\"year_built\"]\n",
    "\n",
    "df[\"year_renovated\"] = df[\"year_renovated\"].apply(clean_year)\n",
    "df[\"year_built\"] = df[\"year_built\"].apply(clean_year)\n",
    "\n",
    "\n",
    "df.dropna(subset=[\"price_display\"], inplace=True)\n",
    "df.drop([\n",
    "    \"pk\",\n",
    "    \"slug\",\n",
    "    \"url\",\n",
    "    \"short_url\",\n",
    "    \"moving_date\",\n",
    "    \"rent_net\",\n",
    "    \"rent_charges\",\n",
    "    \"rent_gross\",\n",
    "    \"offer_type\",\n",
    "    \"submit_url\",\n",
    "    \"status\",\n",
    "    \"created\",\n",
    "    \"reference\",\n",
    "    \"ref_property\",\n",
    "    \"ref_house\",\n",
    "    \"ref_object\",\n",
    "    \"alternative_reference\",\n",
    "    \"published\",\n",
    "    \"short_title\",\n",
    "    \"public_title\",\n",
    "    \"pitch_title\",\n",
    "    \"description_title\",\n",
    "    \"description\",\n",
    "    \"attributes\",\n",
    "    \"public_address\",\n",
    "    \"video_url\",\n",
    "    \"tour_url\",\n",
    "    \"website_url\",\n",
    "    \"live_viewing_url\",\n",
    "    \"cover_image\",\n",
    "    \"images\",\n",
    "    \"documents\",\n",
    "    \"agency\",\n",
    "    \"rent_title\",\n",
    "    \"surface_property\",\n",
    "    \"surface_living\",\n",
    "    \"surface_usable\",\n",
    "    \"surface_usable_minimum\",\n",
    "    \"volume\",\n",
    "    \"space_display\",\n",
    "    \"street\"], axis=1, inplace=True)\n",
    "\n",
    "categories = [\n",
    "    \"object_category\",\n",
    "    \"object_type\",\n",
    "    \"price_display_type\",\n",
    "    \"price_unit\",\n",
    "    \"city\",\n",
    "    \"moving_date_type\"\n",
    "]\n",
    "numerics = [\n",
    "    \"is_furnished\",\n",
    "    \"is_temporary\",\n",
    "    \"is_selling_furniture\",\n",
    "    \"reserved\"\n",
    "]\n",
    "categorize(df, categories)\n",
    "numberize(df, numerics)\n",
    "df.describe()\n",
    "#df.head()\n",
    "#df.isna().sum()\n",
    "#df.dtypes"
   ],
   "metadata": {
    "collapsed": false,
    "ExecuteTime": {
     "end_time": "2024-07-03T12:48:41.314830Z",
     "start_time": "2024-07-03T12:48:38.549400Z"
    }
   },
   "id": "512ec33fa03c9023",
   "execution_count": 38
  },
  {
   "cell_type": "markdown",
   "source": [],
   "metadata": {
    "collapsed": false
   },
   "id": "e26a15092ca63286"
  },
  {
   "cell_type": "markdown",
   "source": [
    "count all years: 21040\n",
    "\n",
    "count 1500-2024: 20725\n",
    "\n",
    "count 1800-2024: 20672\n",
    "\n",
    "\n",
    "Write clean data to csv"
   ],
   "metadata": {
    "collapsed": false
   },
   "id": "d3e091b141b4ef5b"
  },
  {
   "cell_type": "code",
   "outputs": [],
   "source": [
    "df.to_csv(\"flatfox_clean.csv\", index=False)"
   ],
   "metadata": {
    "collapsed": false,
    "ExecuteTime": {
     "end_time": "2024-07-03T12:49:38.043609Z",
     "start_time": "2024-07-03T12:49:37.605442Z"
    }
   },
   "id": "a8754b89af9037e8",
   "execution_count": 39
  },
  {
   "cell_type": "markdown",
   "source": [
    "Create profiling report"
   ],
   "metadata": {
    "collapsed": false
   },
   "id": "d60eee58185a6684"
  },
  {
   "cell_type": "code",
   "outputs": [
    {
     "data": {
      "text/plain": "Summarize dataset:   0%|          | 0/5 [00:00<?, ?it/s]",
      "application/vnd.jupyter.widget-view+json": {
       "version_major": 2,
       "version_minor": 0,
       "model_id": "7957e31d1cd24810b433e4a15361a96b"
      }
     },
     "metadata": {},
     "output_type": "display_data"
    },
    {
     "name": "stderr",
     "output_type": "stream",
     "text": [
      "/home/lukaswipf/zhaw/semester5/DAAI/schweizerland/project/daai-gg-flatfox/.venv/lib/python3.12/site-packages/ydata_profiling/model/correlations.py:66: UserWarning: There was an attempt to calculate the auto correlation, but this failed.\n",
      "To hide this warning, disable the calculation\n",
      "(using `df.profile_report(correlations={\"auto\": {\"calculate\": False}})`\n",
      "If this is problematic for your use case, please report this as an issue:\n",
      "https://github.com/ydataai/ydata-profiling/issues\n",
      "(include the error message: 'could not convert string to float: 'agr'')\n",
      "  warnings.warn(\n"
     ]
    },
    {
     "data": {
      "text/plain": "Generate report structure:   0%|          | 0/1 [00:00<?, ?it/s]",
      "application/vnd.jupyter.widget-view+json": {
       "version_major": 2,
       "version_minor": 0,
       "model_id": "ca9136d99d3247b0b9062a22f61e07c3"
      }
     },
     "metadata": {},
     "output_type": "display_data"
    },
    {
     "data": {
      "text/plain": "Render HTML:   0%|          | 0/1 [00:00<?, ?it/s]",
      "application/vnd.jupyter.widget-view+json": {
       "version_major": 2,
       "version_minor": 0,
       "model_id": "eb95dda565824d88bdb3268027745f30"
      }
     },
     "metadata": {},
     "output_type": "display_data"
    },
    {
     "data": {
      "text/plain": "Export report to file:   0%|          | 0/1 [00:00<?, ?it/s]",
      "application/vnd.jupyter.widget-view+json": {
       "version_major": 2,
       "version_minor": 0,
       "model_id": "587d3b71fd0642c1afad271fdb50651b"
      }
     },
     "metadata": {},
     "output_type": "display_data"
    },
    {
     "data": {
      "text/plain": "Summarize dataset:   0%|          | 0/5 [00:00<?, ?it/s]",
      "application/vnd.jupyter.widget-view+json": {
       "version_major": 2,
       "version_minor": 0,
       "model_id": "c41437be45ce452b868c0fc7f673de40"
      }
     },
     "metadata": {},
     "output_type": "display_data"
    },
    {
     "data": {
      "text/plain": "Generate report structure:   0%|          | 0/1 [00:00<?, ?it/s]",
      "application/vnd.jupyter.widget-view+json": {
       "version_major": 2,
       "version_minor": 0,
       "model_id": "464f1b0d584a45f39071c3b360b9674c"
      }
     },
     "metadata": {},
     "output_type": "display_data"
    },
    {
     "data": {
      "text/plain": "Render HTML:   0%|          | 0/1 [00:00<?, ?it/s]",
      "application/vnd.jupyter.widget-view+json": {
       "version_major": 2,
       "version_minor": 0,
       "model_id": "941f141667d74947a6dd9ed25e39ef69"
      }
     },
     "metadata": {},
     "output_type": "display_data"
    },
    {
     "data": {
      "text/plain": "Export report to file:   0%|          | 0/1 [00:00<?, ?it/s]",
      "application/vnd.jupyter.widget-view+json": {
       "version_major": 2,
       "version_minor": 0,
       "model_id": "8070cc506e1245ce83e521c31c0623da"
      }
     },
     "metadata": {},
     "output_type": "display_data"
    }
   ],
   "source": [
    "from ydata_profiling import ProfileReport\n",
    "ProfileReport(pd.read_csv(\"flatfox.csv\", low_memory=False).drop([\"created\", \"published\"], axis=1), title=\"Flatfox Profiling\").to_file(\"flatfox_profiling.html\")\n",
    "ProfileReport(pd.read_csv(\"flatfox_clean.csv\", low_memory=False), title=\"Flatfox Profiling\").to_file(\"flatfox_clean_profiling.html\")"
   ],
   "metadata": {
    "collapsed": false,
    "ExecuteTime": {
     "end_time": "2024-07-03T12:53:28.597496Z",
     "start_time": "2024-07-03T12:49:45.127071Z"
    }
   },
   "id": "211541a595b2f98f",
   "execution_count": 40
  }
 ],
 "metadata": {
  "kernelspec": {
   "display_name": "Python 3",
   "language": "python",
   "name": "python3"
  },
  "language_info": {
   "codemirror_mode": {
    "name": "ipython",
    "version": 2
   },
   "file_extension": ".py",
   "mimetype": "text/x-python",
   "name": "python",
   "nbconvert_exporter": "python",
   "pygments_lexer": "ipython2",
   "version": "2.7.6"
  }
 },
 "nbformat": 4,
 "nbformat_minor": 5
}
