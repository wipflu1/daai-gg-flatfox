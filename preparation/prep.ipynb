{
 "cells": [
  {
   "cell_type": "markdown",
   "source": [
    "# Imports"
   ],
   "metadata": {
    "collapsed": false
   },
   "id": "2dacbbe7fbb4cdc4"
  },
  {
   "cell_type": "code",
   "execution_count": 3,
   "id": "initial_id",
   "metadata": {
    "collapsed": true,
    "ExecuteTime": {
     "end_time": "2024-07-03T11:13:42.235261Z",
     "start_time": "2024-07-03T11:13:42.230556Z"
    }
   },
   "outputs": [],
   "source": [
    "import pandas as pd"
   ]
  },
  {
   "cell_type": "markdown",
   "source": [
    "Initialize functions"
   ],
   "metadata": {
    "collapsed": false
   },
   "id": "57823dfb87c092aa"
  },
  {
   "cell_type": "code",
   "outputs": [],
   "source": [
    "def categorize(df, categories):\n",
    "    for category in categories:\n",
    "        df[category] = pd.Categorical(df[category]).codes\n",
    "    return df\n",
    "\n",
    "def numberize(df, numerics):\n",
    "    for numeric in numerics:\n",
    "        df[numeric] = df[numeric].astype(\"float\")\n",
    "    return df\n",
    "\n",
    "# Function to clean year_built values\n",
    "def clean_year_built(year):\n",
    "    try:\n",
    "        # Attempt to convert the value to an integer\n",
    "        year = int(float(year))  # Handles both integer and float strings\n",
    "        year_str = str(year)\n",
    "\n",
    "        # Ensure the string is exactly 4 characters long\n",
    "        if len(year_str) > 4:\n",
    "            return int(year_str[:4])\n",
    "        elif len(year_str) < 4:\n",
    "            return int(year_str.ljust(4, '0'))  # Pads with zeros if less than 4 digits\n",
    "        else:\n",
    "            return year\n",
    "    except (ValueError, TypeError):\n",
    "        # Return NaN for non-numeric values or None\n",
    "        return pd.NA"
   ],
   "metadata": {
    "collapsed": false
   },
   "id": "d4a5ee89bab12c43"
  },
  {
   "cell_type": "markdown",
   "source": [
    "load and prepare the data"
   ],
   "metadata": {
    "collapsed": false
   },
   "id": "e1b96fc10d53a41f"
  },
  {
   "cell_type": "code",
   "outputs": [],
   "source": [
    "df = pd.read_csv(\"flatfox.csv\")\n",
    "df.drop(df[df[\"offer_type\"] != \"RENT\"].index, inplace=True)\n",
    "# remove columns with wrong year\n",
    "df.drop(df[df[\"year_built\"] < 1800].index, inplace=True)\n",
    "df.drop(df[df[\"year_built\"] > 2024].index, inplace=True)\n",
    "# NaN  in floors is replaced by 0\n",
    "# year_built has unrealistic values (for example 19 Million)\n",
    "#df['year_built'] = df['year_built'].apply(clean_year_built)\n",
    "\n",
    "df.fillna({\"year_built\": df[\"year_built\"].mean(), \"floor\": 0.0, \"year_renovated\": df[\"year_built\"], \"number_of_rooms\": 0.0, \"livingspace\": 0.0}, inplace=True)\n",
    "\n",
    "\n",
    "df.dropna(subset=[\"price_display\"], inplace=True)\n",
    "df.drop([\n",
    "    \"pk\",\n",
    "    \"slug\",\n",
    "    \"url\",\n",
    "    \"short_url\",\n",
    "    \"moving_date\",\n",
    "    \"rent_net\",\n",
    "    \"rent_charges\",\n",
    "    \"rent_gross\",\n",
    "    \"offer_type\",\n",
    "    \"submit_url\",\n",
    "    \"status\",\n",
    "    \"created\",\n",
    "    \"reference\",\n",
    "    \"ref_property\",\n",
    "    \"ref_house\",\n",
    "    \"ref_object\",\n",
    "    \"alternative_reference\",\n",
    "    \"published\",\n",
    "    \"short_title\",\n",
    "    \"public_title\",\n",
    "    \"pitch_title\",\n",
    "    \"description_title\",\n",
    "    \"description\",\n",
    "    \"attributes\",\n",
    "    \"public_address\",\n",
    "    \"video_url\",\n",
    "    \"tour_url\",\n",
    "    \"website_url\",\n",
    "    \"live_viewing_url\",\n",
    "    \"cover_image\",\n",
    "    \"images\",\n",
    "    \"documents\",\n",
    "    \"agency\",\n",
    "    \"rent_title\",\n",
    "    \"surface_property\",\n",
    "    \"surface_living\",\n",
    "    \"surface_usable\",\n",
    "    \"surface_usable_minimum\",\n",
    "    \"volume\",\n",
    "    \"space_display\",\n",
    "    \"street\"], axis=1, inplace=True)\n",
    "\n",
    "categories = [\n",
    "    \"object_category\",\n",
    "    \"object_type\",\n",
    "    \"price_display_type\",\n",
    "    \"price_unit\",\n",
    "    \"city\",\n",
    "    \"moving_date_type\"\n",
    "]\n",
    "numerics = [\n",
    "    \"is_furnished\",\n",
    "    \"is_temporary\",\n",
    "    \"is_selling_furniture\",\n",
    "    \"reserved\"\n",
    "]\n",
    "categorize(df, categories)\n",
    "numberize(df, numerics)\n",
    "df.describe()\n",
    "#df.head()\n",
    "#df.isna().sum()\n",
    "#df.dtypes"
   ],
   "metadata": {
    "collapsed": false
   },
   "id": "512ec33fa03c9023"
  },
  {
   "cell_type": "markdown",
   "source": [],
   "metadata": {
    "collapsed": false
   },
   "id": "e26a15092ca63286"
  },
  {
   "cell_type": "markdown",
   "source": [
    "count all years: 21040\n",
    "\n",
    "count 1500-2024: 20725\n",
    "\n",
    "count 1800-2024: 20672\n",
    "\n",
    "\n",
    "Write clean data to csv"
   ],
   "metadata": {
    "collapsed": false
   },
   "id": "d3e091b141b4ef5b"
  },
  {
   "cell_type": "code",
   "outputs": [],
   "source": [
    "df.to_csv(\"flatfox_clean.csv\", index=False)"
   ],
   "metadata": {
    "collapsed": false
   },
   "id": "a8754b89af9037e8"
  },
  {
   "cell_type": "markdown",
   "source": [
    "Create profiling report"
   ],
   "metadata": {
    "collapsed": false
   },
   "id": "d60eee58185a6684"
  },
  {
   "cell_type": "code",
   "outputs": [],
   "source": [
    "from ydata_profiling import ProfileReport\n",
    "ProfileReport(pd.read_csv(\"flatfox.csv\", low_memory=False).drop([\"created\", \"published\"], axis=1), title=\"Flatfox Profiling\").to_file(\"flatfox_profiling.html\")\n",
    "ProfileReport(pd.read_csv(\"flatfox_clean.csv\", low_memory=False), title=\"Flatfox Profiling\").to_file(\"flatfox_clean_profiling.html\")"
   ],
   "metadata": {
    "collapsed": false
   },
   "id": "211541a595b2f98f"
  }
 ],
 "metadata": {
  "kernelspec": {
   "display_name": "Python 3",
   "language": "python",
   "name": "python3"
  },
  "language_info": {
   "codemirror_mode": {
    "name": "ipython",
    "version": 2
   },
   "file_extension": ".py",
   "mimetype": "text/x-python",
   "name": "python",
   "nbconvert_exporter": "python",
   "pygments_lexer": "ipython2",
   "version": "2.7.6"
  }
 },
 "nbformat": 4,
 "nbformat_minor": 5
}
