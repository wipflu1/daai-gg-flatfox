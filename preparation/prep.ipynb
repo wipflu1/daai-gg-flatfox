{
 "cells": [
  {
   "cell_type": "markdown",
   "source": [
    "# Imports"
   ],
   "metadata": {
    "collapsed": false
   },
   "id": "2dacbbe7fbb4cdc4"
  },
  {
   "cell_type": "code",
   "id": "initial_id",
   "metadata": {
    "collapsed": true,
    "ExecuteTime": {
     "end_time": "2024-07-10T12:20:23.602114Z",
     "start_time": "2024-07-10T12:20:23.146095Z"
    }
   },
   "source": [
    "import numpy as np\n",
    "import pandas as pd"
   ],
   "outputs": [],
   "execution_count": 1
  },
  {
   "cell_type": "markdown",
   "source": "## Initialize functions",
   "metadata": {
    "collapsed": false
   },
   "id": "57823dfb87c092aa"
  },
  {
   "cell_type": "code",
   "source": [
    "def categorize(df, categories):\n",
    "    for category in categories:\n",
    "        df[category] = pd.Categorical(df[category]).codes\n",
    "    return df\n",
    "\n",
    "def numberize(df, numerics):\n",
    "    for numeric in numerics:\n",
    "        df[numeric] = df[numeric].astype(\"float\")\n",
    "    return df\n",
    "\n",
    "def clean_year(year):\n",
    "    return 2024 - year\n",
    "\n",
    "def get_category_name(df, column, code):\n",
    "    if column in df.columns and pd.api.types.is_categorical_dtype(df[column]):\n",
    "        cat = df[column].cat\n",
    "        categories = cat.categories\n",
    "        if 0 <= code < len(categories):\n",
    "            category_name = categories[code]\n",
    "            return category_name\n",
    "        else:\n",
    "            return None\n",
    "    else:\n",
    "        raise ValueError(f\"Column '{column}' is either missing or not of 'category' dtype\")\n",
    "\n"
   ],
   "metadata": {
    "collapsed": false,
    "ExecuteTime": {
     "end_time": "2024-07-10T12:29:45.708246Z",
     "start_time": "2024-07-10T12:29:45.703069Z"
    }
   },
   "id": "d4a5ee89bab12c43",
   "outputs": [],
   "execution_count": 10
  },
  {
   "cell_type": "markdown",
   "source": "## load and prepare the data",
   "metadata": {
    "collapsed": false
   },
   "id": "e1b96fc10d53a41f"
  },
  {
   "cell_type": "code",
   "source": [
    "df = pd.read_csv(\"flatfox.csv\", low_memory=False)\n",
    "df.drop(df[df[\"offer_type\"] != \"RENT\"].index, inplace=True)\n",
    "relevant_cat = [\"APARTMENT\", \"HOUSE\"]\n",
    "df.drop(df[~df[\"object_category\"].isin(relevant_cat)].index, inplace=True)\n",
    "# remove columns with wrong year\n",
    "df.drop(df[df[\"year_built\"] < 1800].index, inplace=True)\n",
    "df.drop(df[df[\"year_built\"] > 2030].index, inplace=True)\n",
    "# NaN  in floors is replaced by 0\n",
    "# year_built has unrealistic values (for example 19 Million)\n",
    "#df['year_built'] = df['year_built'].apply(clean_year_built)\n",
    "\n",
    "df.fillna({\"year_built\": df[\"year_built\"].mean(), \"floor\": 0.0, \"year_renovated\": df[\"year_built\"], \"number_of_rooms\": df[\"number_of_rooms\"].mean(), \"livingspace\": df[\"livingspace\"].mean()}, inplace=True)\n",
    "\n",
    "df.loc[df[\"year_renovated\"] < 1800, \"year_renovated\"] = df[\"year_built\"]\n",
    "\n",
    "df[\"year_renovated\"] = df[\"year_renovated\"].apply(clean_year)\n",
    "df[\"year_built\"] = df[\"year_built\"].apply(clean_year)\n",
    "\n",
    "df.dropna(subset=[\"price_display\"], inplace=True)\n",
    "\n",
    "df.drop([\n",
    "    \"pk\",\n",
    "    \"slug\",\n",
    "    \"url\",\n",
    "    \"short_url\",\n",
    "    \"moving_date\",\n",
    "    \"rent_net\",\n",
    "    \"rent_charges\",\n",
    "    \"rent_gross\",\n",
    "    \"offer_type\",\n",
    "    \"submit_url\",\n",
    "    \"status\",\n",
    "    \"created\",\n",
    "    \"reference\",\n",
    "    \"ref_property\",\n",
    "    \"ref_house\",\n",
    "    \"ref_object\",\n",
    "    \"alternative_reference\",\n",
    "    \"published\",\n",
    "    \"short_title\",\n",
    "    \"public_title\",\n",
    "    \"pitch_title\",\n",
    "    \"description_title\",\n",
    "    \"description\",\n",
    "    \"attributes\",\n",
    "    \"public_address\",\n",
    "    \"video_url\",\n",
    "    \"tour_url\",\n",
    "    \"website_url\",\n",
    "    \"live_viewing_url\",\n",
    "    \"cover_image\",\n",
    "    \"images\",\n",
    "    \"documents\",\n",
    "    \"agency\",\n",
    "    \"rent_title\",\n",
    "    \"surface_property\",\n",
    "    \"surface_living\",\n",
    "    \"surface_usable\",\n",
    "    \"surface_usable_minimum\",\n",
    "    \"volume\",\n",
    "    \"space_display\",\n",
    "    \"street\"], axis=1, inplace=True)\n",
    "\n",
    "categories = [\n",
    "    \"object_category\",\n",
    "    \"object_type\",\n",
    "    \"price_display_type\",\n",
    "    \"price_unit\",\n",
    "    \"city\",\n",
    "    \"moving_date_type\"\n",
    "]\n",
    "numerics = [\n",
    "    \"is_furnished\",\n",
    "    \"is_temporary\",\n",
    "    \"is_selling_furniture\",\n",
    "    \"reserved\"\n",
    "]\n",
    "\n",
    "categorize(df, categories)\n",
    "numberize(df, numerics)\n",
    "df.describe()\n",
    "#df.head()\n",
    "#df.isna().sum()\n",
    "#df.dtypes\n",
    "\n"
   ],
   "metadata": {
    "collapsed": false,
    "ExecuteTime": {
     "end_time": "2024-07-10T12:29:55.159325Z",
     "start_time": "2024-07-10T12:29:53.921535Z"
    }
   },
   "id": "512ec33fa03c9023",
   "outputs": [
    {
     "data": {
      "text/plain": [
       "       object_category   object_type  price_display  price_display_type  \\\n",
       "count     11724.000000  11724.000000   11724.000000        11724.000000   \n",
       "mean          0.028233      1.771836    2122.884766            0.999829   \n",
       "std           0.165644      3.899079    1087.901432            0.013060   \n",
       "min           0.000000      0.000000       1.000000            0.000000   \n",
       "25%           0.000000      0.000000    1480.000000            1.000000   \n",
       "50%           0.000000      0.000000    1870.000000            1.000000   \n",
       "75%           0.000000      0.000000    2500.000000            1.000000   \n",
       "max           1.000000     19.000000   15000.000000            1.000000   \n",
       "\n",
       "         price_unit  number_of_rooms         floor  is_furnished  \\\n",
       "count  11724.000000     11724.000000  11724.000000  11724.000000   \n",
       "mean       0.000171         3.323389      1.990020      0.164961   \n",
       "std        0.013060         1.245580      2.159625      0.371161   \n",
       "min        0.000000         1.000000     -5.000000      0.000000   \n",
       "25%        0.000000         2.500000      1.000000      0.000000   \n",
       "50%        0.000000         3.500000      2.000000      0.000000   \n",
       "75%        0.000000         4.500000      3.000000      0.000000   \n",
       "max        1.000000        10.500000     31.000000      1.000000   \n",
       "\n",
       "       is_temporary  is_selling_furniture       zipcode          city  \\\n",
       "count  11724.000000          11724.000000  11724.000000  11724.000000   \n",
       "mean       0.072501              0.027721   5372.672637    923.062692   \n",
       "std        0.259326              0.164179   2696.155419    576.256038   \n",
       "min        0.000000              0.000000   1000.000000      0.000000   \n",
       "25%        0.000000              0.000000   3072.000000    412.000000   \n",
       "50%        0.000000              0.000000   4833.000000    892.000000   \n",
       "75%        0.000000              0.000000   8052.000000   1422.000000   \n",
       "max        1.000000              1.000000   9657.000000   1812.000000   \n",
       "\n",
       "           latitude     longitude    year_built  year_renovated  \\\n",
       "count  11724.000000  11724.000000  11724.000000    11724.000000   \n",
       "mean      47.147571      7.993014     39.471739       29.888156   \n",
       "std        0.413635      0.841675     23.461238       20.711948   \n",
       "min       45.826182      5.991881     -1.000000       -1.000000   \n",
       "25%       46.950762      7.445634     39.479863        9.000000   \n",
       "50%       47.318822      7.909561     39.479863       39.479863   \n",
       "75%       47.434064      8.573304     39.479863       39.479863   \n",
       "max       47.768032     10.364311    224.000000      224.000000   \n",
       "\n",
       "       moving_date_type      reserved   livingspace  \n",
       "count      11724.000000  11724.000000  11724.000000  \n",
       "mean           1.016888      0.000597     82.862391  \n",
       "std            0.727863      0.024429     40.622674  \n",
       "min            0.000000      0.000000      0.000000  \n",
       "25%            0.000000      0.000000     62.000000  \n",
       "50%            1.000000      0.000000     82.853484  \n",
       "75%            2.000000      0.000000     97.000000  \n",
       "max            2.000000      1.000000   1275.000000  "
      ],
      "text/html": [
       "<div>\n",
       "<style scoped>\n",
       "    .dataframe tbody tr th:only-of-type {\n",
       "        vertical-align: middle;\n",
       "    }\n",
       "\n",
       "    .dataframe tbody tr th {\n",
       "        vertical-align: top;\n",
       "    }\n",
       "\n",
       "    .dataframe thead th {\n",
       "        text-align: right;\n",
       "    }\n",
       "</style>\n",
       "<table border=\"1\" class=\"dataframe\">\n",
       "  <thead>\n",
       "    <tr style=\"text-align: right;\">\n",
       "      <th></th>\n",
       "      <th>object_category</th>\n",
       "      <th>object_type</th>\n",
       "      <th>price_display</th>\n",
       "      <th>price_display_type</th>\n",
       "      <th>price_unit</th>\n",
       "      <th>number_of_rooms</th>\n",
       "      <th>floor</th>\n",
       "      <th>is_furnished</th>\n",
       "      <th>is_temporary</th>\n",
       "      <th>is_selling_furniture</th>\n",
       "      <th>zipcode</th>\n",
       "      <th>city</th>\n",
       "      <th>latitude</th>\n",
       "      <th>longitude</th>\n",
       "      <th>year_built</th>\n",
       "      <th>year_renovated</th>\n",
       "      <th>moving_date_type</th>\n",
       "      <th>reserved</th>\n",
       "      <th>livingspace</th>\n",
       "    </tr>\n",
       "  </thead>\n",
       "  <tbody>\n",
       "    <tr>\n",
       "      <th>count</th>\n",
       "      <td>11724.000000</td>\n",
       "      <td>11724.000000</td>\n",
       "      <td>11724.000000</td>\n",
       "      <td>11724.000000</td>\n",
       "      <td>11724.000000</td>\n",
       "      <td>11724.000000</td>\n",
       "      <td>11724.000000</td>\n",
       "      <td>11724.000000</td>\n",
       "      <td>11724.000000</td>\n",
       "      <td>11724.000000</td>\n",
       "      <td>11724.000000</td>\n",
       "      <td>11724.000000</td>\n",
       "      <td>11724.000000</td>\n",
       "      <td>11724.000000</td>\n",
       "      <td>11724.000000</td>\n",
       "      <td>11724.000000</td>\n",
       "      <td>11724.000000</td>\n",
       "      <td>11724.000000</td>\n",
       "      <td>11724.000000</td>\n",
       "    </tr>\n",
       "    <tr>\n",
       "      <th>mean</th>\n",
       "      <td>0.028233</td>\n",
       "      <td>1.771836</td>\n",
       "      <td>2122.884766</td>\n",
       "      <td>0.999829</td>\n",
       "      <td>0.000171</td>\n",
       "      <td>3.323389</td>\n",
       "      <td>1.990020</td>\n",
       "      <td>0.164961</td>\n",
       "      <td>0.072501</td>\n",
       "      <td>0.027721</td>\n",
       "      <td>5372.672637</td>\n",
       "      <td>923.062692</td>\n",
       "      <td>47.147571</td>\n",
       "      <td>7.993014</td>\n",
       "      <td>39.471739</td>\n",
       "      <td>29.888156</td>\n",
       "      <td>1.016888</td>\n",
       "      <td>0.000597</td>\n",
       "      <td>82.862391</td>\n",
       "    </tr>\n",
       "    <tr>\n",
       "      <th>std</th>\n",
       "      <td>0.165644</td>\n",
       "      <td>3.899079</td>\n",
       "      <td>1087.901432</td>\n",
       "      <td>0.013060</td>\n",
       "      <td>0.013060</td>\n",
       "      <td>1.245580</td>\n",
       "      <td>2.159625</td>\n",
       "      <td>0.371161</td>\n",
       "      <td>0.259326</td>\n",
       "      <td>0.164179</td>\n",
       "      <td>2696.155419</td>\n",
       "      <td>576.256038</td>\n",
       "      <td>0.413635</td>\n",
       "      <td>0.841675</td>\n",
       "      <td>23.461238</td>\n",
       "      <td>20.711948</td>\n",
       "      <td>0.727863</td>\n",
       "      <td>0.024429</td>\n",
       "      <td>40.622674</td>\n",
       "    </tr>\n",
       "    <tr>\n",
       "      <th>min</th>\n",
       "      <td>0.000000</td>\n",
       "      <td>0.000000</td>\n",
       "      <td>1.000000</td>\n",
       "      <td>0.000000</td>\n",
       "      <td>0.000000</td>\n",
       "      <td>1.000000</td>\n",
       "      <td>-5.000000</td>\n",
       "      <td>0.000000</td>\n",
       "      <td>0.000000</td>\n",
       "      <td>0.000000</td>\n",
       "      <td>1000.000000</td>\n",
       "      <td>0.000000</td>\n",
       "      <td>45.826182</td>\n",
       "      <td>5.991881</td>\n",
       "      <td>-1.000000</td>\n",
       "      <td>-1.000000</td>\n",
       "      <td>0.000000</td>\n",
       "      <td>0.000000</td>\n",
       "      <td>0.000000</td>\n",
       "    </tr>\n",
       "    <tr>\n",
       "      <th>25%</th>\n",
       "      <td>0.000000</td>\n",
       "      <td>0.000000</td>\n",
       "      <td>1480.000000</td>\n",
       "      <td>1.000000</td>\n",
       "      <td>0.000000</td>\n",
       "      <td>2.500000</td>\n",
       "      <td>1.000000</td>\n",
       "      <td>0.000000</td>\n",
       "      <td>0.000000</td>\n",
       "      <td>0.000000</td>\n",
       "      <td>3072.000000</td>\n",
       "      <td>412.000000</td>\n",
       "      <td>46.950762</td>\n",
       "      <td>7.445634</td>\n",
       "      <td>39.479863</td>\n",
       "      <td>9.000000</td>\n",
       "      <td>0.000000</td>\n",
       "      <td>0.000000</td>\n",
       "      <td>62.000000</td>\n",
       "    </tr>\n",
       "    <tr>\n",
       "      <th>50%</th>\n",
       "      <td>0.000000</td>\n",
       "      <td>0.000000</td>\n",
       "      <td>1870.000000</td>\n",
       "      <td>1.000000</td>\n",
       "      <td>0.000000</td>\n",
       "      <td>3.500000</td>\n",
       "      <td>2.000000</td>\n",
       "      <td>0.000000</td>\n",
       "      <td>0.000000</td>\n",
       "      <td>0.000000</td>\n",
       "      <td>4833.000000</td>\n",
       "      <td>892.000000</td>\n",
       "      <td>47.318822</td>\n",
       "      <td>7.909561</td>\n",
       "      <td>39.479863</td>\n",
       "      <td>39.479863</td>\n",
       "      <td>1.000000</td>\n",
       "      <td>0.000000</td>\n",
       "      <td>82.853484</td>\n",
       "    </tr>\n",
       "    <tr>\n",
       "      <th>75%</th>\n",
       "      <td>0.000000</td>\n",
       "      <td>0.000000</td>\n",
       "      <td>2500.000000</td>\n",
       "      <td>1.000000</td>\n",
       "      <td>0.000000</td>\n",
       "      <td>4.500000</td>\n",
       "      <td>3.000000</td>\n",
       "      <td>0.000000</td>\n",
       "      <td>0.000000</td>\n",
       "      <td>0.000000</td>\n",
       "      <td>8052.000000</td>\n",
       "      <td>1422.000000</td>\n",
       "      <td>47.434064</td>\n",
       "      <td>8.573304</td>\n",
       "      <td>39.479863</td>\n",
       "      <td>39.479863</td>\n",
       "      <td>2.000000</td>\n",
       "      <td>0.000000</td>\n",
       "      <td>97.000000</td>\n",
       "    </tr>\n",
       "    <tr>\n",
       "      <th>max</th>\n",
       "      <td>1.000000</td>\n",
       "      <td>19.000000</td>\n",
       "      <td>15000.000000</td>\n",
       "      <td>1.000000</td>\n",
       "      <td>1.000000</td>\n",
       "      <td>10.500000</td>\n",
       "      <td>31.000000</td>\n",
       "      <td>1.000000</td>\n",
       "      <td>1.000000</td>\n",
       "      <td>1.000000</td>\n",
       "      <td>9657.000000</td>\n",
       "      <td>1812.000000</td>\n",
       "      <td>47.768032</td>\n",
       "      <td>10.364311</td>\n",
       "      <td>224.000000</td>\n",
       "      <td>224.000000</td>\n",
       "      <td>2.000000</td>\n",
       "      <td>1.000000</td>\n",
       "      <td>1275.000000</td>\n",
       "    </tr>\n",
       "  </tbody>\n",
       "</table>\n",
       "</div>"
      ]
     },
     "execution_count": 11,
     "metadata": {},
     "output_type": "execute_result"
    }
   ],
   "execution_count": 11
  },
  {
   "cell_type": "markdown",
   "source": [],
   "metadata": {
    "collapsed": false
   },
   "id": "e26a15092ca63286"
  },
  {
   "cell_type": "markdown",
   "source": [
    "count all years: 21040\n",
    "\n",
    "count 1500-2024: 20725\n",
    "\n",
    "count 1800-2024: 20672\n",
    "\n",
    "\n",
    "Write clean data to csv"
   ],
   "metadata": {
    "collapsed": false
   },
   "id": "d3e091b141b4ef5b"
  },
  {
   "cell_type": "code",
   "source": "df.to_csv(\"flatfox_no_parking_clean.csv\", index=False)",
   "metadata": {
    "collapsed": false,
    "ExecuteTime": {
     "end_time": "2024-07-10T12:30:00.628884Z",
     "start_time": "2024-07-10T12:30:00.513406Z"
    }
   },
   "id": "a8754b89af9037e8",
   "outputs": [],
   "execution_count": 12
  },
  {
   "cell_type": "markdown",
   "source": "## Create profiling report",
   "metadata": {
    "collapsed": false
   },
   "id": "d60eee58185a6684"
  },
  {
   "cell_type": "code",
   "source": [
    "from ydata_profiling import ProfileReport\n",
    "ProfileReport(pd.read_csv(\"flatfox.csv\", low_memory=False).drop([\"created\", \"published\"], axis=1), title=\"Flatfox raw Profiling\").to_file(\"flatfox_profiling.html\")\n",
    "ProfileReport(pd.read_csv(\"flatfox_clean.csv\", low_memory=False), title=\"Flatfox clean Profiling\").to_file(\"flatfox_clean_profiling.html\")\n",
    "ProfileReport(pd.read_csv(\"flatfox_no_parking_clean.csv\", low_memory=False), title=\"Flatfox clean apartment Profiling\").to_file(\"flatfox_no_parking_clean_profiling.html\")"
   ],
   "metadata": {
    "collapsed": false,
    "ExecuteTime": {
     "end_time": "2024-07-10T12:38:56.213893Z",
     "start_time": "2024-07-10T12:36:52.839842Z"
    }
   },
   "id": "b4b1fb236c63c22c",
   "outputs": [
    {
     "data": {
      "text/plain": [
       "Summarize dataset:   0%|          | 0/5 [00:00<?, ?it/s]"
      ],
      "application/vnd.jupyter.widget-view+json": {
       "version_major": 2,
       "version_minor": 0,
       "model_id": "b93ad650db084593ae02b8b4bd4bc0ca"
      }
     },
     "metadata": {},
     "output_type": "display_data"
    },
    {
     "name": "stderr",
     "output_type": "stream",
     "text": [
      "/home/lukaswipf/zhaw/semester5/DAAI/schweizerland/project/daai-gg-flatfox/.venv/lib/python3.12/site-packages/ydata_profiling/model/correlations.py:66: UserWarning: There was an attempt to calculate the auto correlation, but this failed.\n",
      "To hide this warning, disable the calculation\n",
      "(using `df.profile_report(correlations={\"auto\": {\"calculate\": False}})`\n",
      "If this is problematic for your use case, please report this as an issue:\n",
      "https://github.com/ydataai/ydata-profiling/issues\n",
      "(include the error message: 'could not convert string to float: 'agr'')\n",
      "  warnings.warn(\n"
     ]
    },
    {
     "data": {
      "text/plain": [
       "Generate report structure:   0%|          | 0/1 [00:00<?, ?it/s]"
      ],
      "application/vnd.jupyter.widget-view+json": {
       "version_major": 2,
       "version_minor": 0,
       "model_id": "5c41c4cb3a554db980046b59dfcf38b6"
      }
     },
     "metadata": {},
     "output_type": "display_data"
    },
    {
     "data": {
      "text/plain": [
       "Render HTML:   0%|          | 0/1 [00:00<?, ?it/s]"
      ],
      "application/vnd.jupyter.widget-view+json": {
       "version_major": 2,
       "version_minor": 0,
       "model_id": "4b7d4bfafb0f47f08b2c6a13d97ea1f1"
      }
     },
     "metadata": {},
     "output_type": "display_data"
    },
    {
     "data": {
      "text/plain": [
       "Export report to file:   0%|          | 0/1 [00:00<?, ?it/s]"
      ],
      "application/vnd.jupyter.widget-view+json": {
       "version_major": 2,
       "version_minor": 0,
       "model_id": "47acc3dcc8fb4c6f8253d71187492534"
      }
     },
     "metadata": {},
     "output_type": "display_data"
    },
    {
     "data": {
      "text/plain": [
       "Summarize dataset:   0%|          | 0/5 [00:00<?, ?it/s]"
      ],
      "application/vnd.jupyter.widget-view+json": {
       "version_major": 2,
       "version_minor": 0,
       "model_id": "b41dc1c7003642e6bbf6a419a27f38c2"
      }
     },
     "metadata": {},
     "output_type": "display_data"
    },
    {
     "data": {
      "text/plain": [
       "Generate report structure:   0%|          | 0/1 [00:00<?, ?it/s]"
      ],
      "application/vnd.jupyter.widget-view+json": {
       "version_major": 2,
       "version_minor": 0,
       "model_id": "6bf1585f4c37418aa97e8896efc4ed8e"
      }
     },
     "metadata": {},
     "output_type": "display_data"
    },
    {
     "data": {
      "text/plain": [
       "Render HTML:   0%|          | 0/1 [00:00<?, ?it/s]"
      ],
      "application/vnd.jupyter.widget-view+json": {
       "version_major": 2,
       "version_minor": 0,
       "model_id": "45af00c74a414bdabc0ead8fdf191aff"
      }
     },
     "metadata": {},
     "output_type": "display_data"
    },
    {
     "data": {
      "text/plain": [
       "Export report to file:   0%|          | 0/1 [00:00<?, ?it/s]"
      ],
      "application/vnd.jupyter.widget-view+json": {
       "version_major": 2,
       "version_minor": 0,
       "model_id": "5ed81f28d183496a9671ab5529e46146"
      }
     },
     "metadata": {},
     "output_type": "display_data"
    },
    {
     "data": {
      "text/plain": [
       "Summarize dataset:   0%|          | 0/5 [00:00<?, ?it/s]"
      ],
      "application/vnd.jupyter.widget-view+json": {
       "version_major": 2,
       "version_minor": 0,
       "model_id": "a478e9d043064eada8331adc9a137291"
      }
     },
     "metadata": {},
     "output_type": "display_data"
    },
    {
     "data": {
      "text/plain": [
       "Generate report structure:   0%|          | 0/1 [00:00<?, ?it/s]"
      ],
      "application/vnd.jupyter.widget-view+json": {
       "version_major": 2,
       "version_minor": 0,
       "model_id": "0ff3eff75a4a491f94e86660efcaac7f"
      }
     },
     "metadata": {},
     "output_type": "display_data"
    },
    {
     "data": {
      "text/plain": [
       "Render HTML:   0%|          | 0/1 [00:00<?, ?it/s]"
      ],
      "application/vnd.jupyter.widget-view+json": {
       "version_major": 2,
       "version_minor": 0,
       "model_id": "cbc8d1bed887422ca7eaa907334ee8a1"
      }
     },
     "metadata": {},
     "output_type": "display_data"
    },
    {
     "data": {
      "text/plain": [
       "Export report to file:   0%|          | 0/1 [00:00<?, ?it/s]"
      ],
      "application/vnd.jupyter.widget-view+json": {
       "version_major": 2,
       "version_minor": 0,
       "model_id": "25a0c30f43e1456c8c3203057bcafcb6"
      }
     },
     "metadata": {},
     "output_type": "display_data"
    }
   ],
   "execution_count": 13
  },
  {
   "metadata": {},
   "cell_type": "markdown",
   "source": "Get descriptions",
   "id": "cd528ac2f68b58cf"
  },
  {
   "metadata": {
    "ExecuteTime": {
     "end_time": "2024-07-04T11:35:50.867757Z",
     "start_time": "2024-07-04T11:35:50.839383Z"
    }
   },
   "cell_type": "code",
   "source": [
    "# Call the function\n",
    "city_code = 8\n",
    "\n",
    "city_name = get_category_name(df, \"object_type\", city_code)\n",
    "\n",
    "# Print out the result\n",
    "print(f\"The city corresponding to '{city_code}' is '{city_name}'.\")"
   ],
   "id": "bfeb2cb42f506b42",
   "outputs": [
    {
     "name": "stdout",
     "output_type": "stream",
     "text": [
      "The city corresponding to '8' is 'BACHELOR_FLAT'.\n"
     ]
    },
    {
     "name": "stderr",
     "output_type": "stream",
     "text": [
      "C:\\Users\\lirla\\AppData\\Local\\Temp\\ipykernel_14612\\3188197535.py:15: DeprecationWarning: is_categorical_dtype is deprecated and will be removed in a future version. Use isinstance(dtype, pd.CategoricalDtype) instead\n",
      "  if column in df.columns and pd.api.types.is_categorical_dtype(df[column]):\n"
     ]
    }
   ],
   "execution_count": 18
  },
  {
   "metadata": {},
   "cell_type": "markdown",
   "source": "## Clean data without parking description",
   "id": "6b1c85e94a80d9a8"
  },
  {
   "metadata": {
    "ExecuteTime": {
     "end_time": "2024-07-04T12:04:36.665654Z",
     "start_time": "2024-07-04T12:04:36.501197Z"
    }
   },
   "cell_type": "code",
   "source": [
    "df2 = pd.read_csv(\"flatfox_no_parking_clean.csv\", low_memory=False)\n",
    "df2.describe()"
   ],
   "id": "b6b1246f01b2f2da",
   "outputs": [
    {
     "data": {
      "text/plain": [
       "       object_category   object_type  price_display  price_display_type  \\\n",
       "count     11724.000000  11724.000000   11724.000000        11724.000000   \n",
       "mean          0.028233      1.771836    2122.884766            0.999829   \n",
       "std           0.165644      3.899079    1087.901432            0.013060   \n",
       "min           0.000000      0.000000       1.000000            0.000000   \n",
       "25%           0.000000      0.000000    1480.000000            1.000000   \n",
       "50%           0.000000      0.000000    1870.000000            1.000000   \n",
       "75%           0.000000      0.000000    2500.000000            1.000000   \n",
       "max           1.000000     19.000000   15000.000000            1.000000   \n",
       "\n",
       "         price_unit  number_of_rooms         floor  is_furnished  \\\n",
       "count  11724.000000     11724.000000  11724.000000  11724.000000   \n",
       "mean       0.000171         3.262410      1.990020      0.164961   \n",
       "std        0.013060         1.322995      2.159625      0.371161   \n",
       "min        0.000000         0.000000     -5.000000      0.000000   \n",
       "25%        0.000000         2.500000      1.000000      0.000000   \n",
       "50%        0.000000         3.500000      2.000000      0.000000   \n",
       "75%        0.000000         4.500000      3.000000      0.000000   \n",
       "max        1.000000        10.500000     31.000000      1.000000   \n",
       "\n",
       "       is_temporary  is_selling_furniture       zipcode          city  \\\n",
       "count  11724.000000          11724.000000  11724.000000  11724.000000   \n",
       "mean       0.072501              0.027721   5372.672637    923.062692   \n",
       "std        0.259326              0.164179   2696.155419    576.256038   \n",
       "min        0.000000              0.000000   1000.000000      0.000000   \n",
       "25%        0.000000              0.000000   3072.000000    412.000000   \n",
       "50%        0.000000              0.000000   4833.000000    892.000000   \n",
       "75%        0.000000              0.000000   8052.000000   1422.000000   \n",
       "max        1.000000              1.000000   9657.000000   1812.000000   \n",
       "\n",
       "           latitude     longitude    year_built  year_renovated  \\\n",
       "count  11724.000000  11724.000000  11724.000000    11724.000000   \n",
       "mean      47.147571      7.993014     39.471739       29.888156   \n",
       "std        0.413635      0.841675     23.461238       20.711948   \n",
       "min       45.826182      5.991881     -1.000000       -1.000000   \n",
       "25%       46.950762      7.445634     39.479863        9.000000   \n",
       "50%       47.318822      7.909561     39.479863       39.479863   \n",
       "75%       47.434064      8.573304     39.479863       39.479863   \n",
       "max       47.768032     10.364311    224.000000      224.000000   \n",
       "\n",
       "       moving_date_type      reserved   livingspace  \n",
       "count      11724.000000  11724.000000  11724.000000  \n",
       "mean           1.016888      0.000597     73.392613  \n",
       "std            0.727863      0.024429     48.428886  \n",
       "min            0.000000      0.000000      0.000000  \n",
       "25%            0.000000      0.000000     47.000000  \n",
       "50%            1.000000      0.000000     74.000000  \n",
       "75%            2.000000      0.000000     97.000000  \n",
       "max            2.000000      1.000000   1275.000000  "
      ],
      "text/html": [
       "<div>\n",
       "<style scoped>\n",
       "    .dataframe tbody tr th:only-of-type {\n",
       "        vertical-align: middle;\n",
       "    }\n",
       "\n",
       "    .dataframe tbody tr th {\n",
       "        vertical-align: top;\n",
       "    }\n",
       "\n",
       "    .dataframe thead th {\n",
       "        text-align: right;\n",
       "    }\n",
       "</style>\n",
       "<table border=\"1\" class=\"dataframe\">\n",
       "  <thead>\n",
       "    <tr style=\"text-align: right;\">\n",
       "      <th></th>\n",
       "      <th>object_category</th>\n",
       "      <th>object_type</th>\n",
       "      <th>price_display</th>\n",
       "      <th>price_display_type</th>\n",
       "      <th>price_unit</th>\n",
       "      <th>number_of_rooms</th>\n",
       "      <th>floor</th>\n",
       "      <th>is_furnished</th>\n",
       "      <th>is_temporary</th>\n",
       "      <th>is_selling_furniture</th>\n",
       "      <th>zipcode</th>\n",
       "      <th>city</th>\n",
       "      <th>latitude</th>\n",
       "      <th>longitude</th>\n",
       "      <th>year_built</th>\n",
       "      <th>year_renovated</th>\n",
       "      <th>moving_date_type</th>\n",
       "      <th>reserved</th>\n",
       "      <th>livingspace</th>\n",
       "    </tr>\n",
       "  </thead>\n",
       "  <tbody>\n",
       "    <tr>\n",
       "      <th>count</th>\n",
       "      <td>11724.000000</td>\n",
       "      <td>11724.000000</td>\n",
       "      <td>11724.000000</td>\n",
       "      <td>11724.000000</td>\n",
       "      <td>11724.000000</td>\n",
       "      <td>11724.000000</td>\n",
       "      <td>11724.000000</td>\n",
       "      <td>11724.000000</td>\n",
       "      <td>11724.000000</td>\n",
       "      <td>11724.000000</td>\n",
       "      <td>11724.000000</td>\n",
       "      <td>11724.000000</td>\n",
       "      <td>11724.000000</td>\n",
       "      <td>11724.000000</td>\n",
       "      <td>11724.000000</td>\n",
       "      <td>11724.000000</td>\n",
       "      <td>11724.000000</td>\n",
       "      <td>11724.000000</td>\n",
       "      <td>11724.000000</td>\n",
       "    </tr>\n",
       "    <tr>\n",
       "      <th>mean</th>\n",
       "      <td>0.028233</td>\n",
       "      <td>1.771836</td>\n",
       "      <td>2122.884766</td>\n",
       "      <td>0.999829</td>\n",
       "      <td>0.000171</td>\n",
       "      <td>3.262410</td>\n",
       "      <td>1.990020</td>\n",
       "      <td>0.164961</td>\n",
       "      <td>0.072501</td>\n",
       "      <td>0.027721</td>\n",
       "      <td>5372.672637</td>\n",
       "      <td>923.062692</td>\n",
       "      <td>47.147571</td>\n",
       "      <td>7.993014</td>\n",
       "      <td>39.471739</td>\n",
       "      <td>29.888156</td>\n",
       "      <td>1.016888</td>\n",
       "      <td>0.000597</td>\n",
       "      <td>73.392613</td>\n",
       "    </tr>\n",
       "    <tr>\n",
       "      <th>std</th>\n",
       "      <td>0.165644</td>\n",
       "      <td>3.899079</td>\n",
       "      <td>1087.901432</td>\n",
       "      <td>0.013060</td>\n",
       "      <td>0.013060</td>\n",
       "      <td>1.322995</td>\n",
       "      <td>2.159625</td>\n",
       "      <td>0.371161</td>\n",
       "      <td>0.259326</td>\n",
       "      <td>0.164179</td>\n",
       "      <td>2696.155419</td>\n",
       "      <td>576.256038</td>\n",
       "      <td>0.413635</td>\n",
       "      <td>0.841675</td>\n",
       "      <td>23.461238</td>\n",
       "      <td>20.711948</td>\n",
       "      <td>0.727863</td>\n",
       "      <td>0.024429</td>\n",
       "      <td>48.428886</td>\n",
       "    </tr>\n",
       "    <tr>\n",
       "      <th>min</th>\n",
       "      <td>0.000000</td>\n",
       "      <td>0.000000</td>\n",
       "      <td>1.000000</td>\n",
       "      <td>0.000000</td>\n",
       "      <td>0.000000</td>\n",
       "      <td>0.000000</td>\n",
       "      <td>-5.000000</td>\n",
       "      <td>0.000000</td>\n",
       "      <td>0.000000</td>\n",
       "      <td>0.000000</td>\n",
       "      <td>1000.000000</td>\n",
       "      <td>0.000000</td>\n",
       "      <td>45.826182</td>\n",
       "      <td>5.991881</td>\n",
       "      <td>-1.000000</td>\n",
       "      <td>-1.000000</td>\n",
       "      <td>0.000000</td>\n",
       "      <td>0.000000</td>\n",
       "      <td>0.000000</td>\n",
       "    </tr>\n",
       "    <tr>\n",
       "      <th>25%</th>\n",
       "      <td>0.000000</td>\n",
       "      <td>0.000000</td>\n",
       "      <td>1480.000000</td>\n",
       "      <td>1.000000</td>\n",
       "      <td>0.000000</td>\n",
       "      <td>2.500000</td>\n",
       "      <td>1.000000</td>\n",
       "      <td>0.000000</td>\n",
       "      <td>0.000000</td>\n",
       "      <td>0.000000</td>\n",
       "      <td>3072.000000</td>\n",
       "      <td>412.000000</td>\n",
       "      <td>46.950762</td>\n",
       "      <td>7.445634</td>\n",
       "      <td>39.479863</td>\n",
       "      <td>9.000000</td>\n",
       "      <td>0.000000</td>\n",
       "      <td>0.000000</td>\n",
       "      <td>47.000000</td>\n",
       "    </tr>\n",
       "    <tr>\n",
       "      <th>50%</th>\n",
       "      <td>0.000000</td>\n",
       "      <td>0.000000</td>\n",
       "      <td>1870.000000</td>\n",
       "      <td>1.000000</td>\n",
       "      <td>0.000000</td>\n",
       "      <td>3.500000</td>\n",
       "      <td>2.000000</td>\n",
       "      <td>0.000000</td>\n",
       "      <td>0.000000</td>\n",
       "      <td>0.000000</td>\n",
       "      <td>4833.000000</td>\n",
       "      <td>892.000000</td>\n",
       "      <td>47.318822</td>\n",
       "      <td>7.909561</td>\n",
       "      <td>39.479863</td>\n",
       "      <td>39.479863</td>\n",
       "      <td>1.000000</td>\n",
       "      <td>0.000000</td>\n",
       "      <td>74.000000</td>\n",
       "    </tr>\n",
       "    <tr>\n",
       "      <th>75%</th>\n",
       "      <td>0.000000</td>\n",
       "      <td>0.000000</td>\n",
       "      <td>2500.000000</td>\n",
       "      <td>1.000000</td>\n",
       "      <td>0.000000</td>\n",
       "      <td>4.500000</td>\n",
       "      <td>3.000000</td>\n",
       "      <td>0.000000</td>\n",
       "      <td>0.000000</td>\n",
       "      <td>0.000000</td>\n",
       "      <td>8052.000000</td>\n",
       "      <td>1422.000000</td>\n",
       "      <td>47.434064</td>\n",
       "      <td>8.573304</td>\n",
       "      <td>39.479863</td>\n",
       "      <td>39.479863</td>\n",
       "      <td>2.000000</td>\n",
       "      <td>0.000000</td>\n",
       "      <td>97.000000</td>\n",
       "    </tr>\n",
       "    <tr>\n",
       "      <th>max</th>\n",
       "      <td>1.000000</td>\n",
       "      <td>19.000000</td>\n",
       "      <td>15000.000000</td>\n",
       "      <td>1.000000</td>\n",
       "      <td>1.000000</td>\n",
       "      <td>10.500000</td>\n",
       "      <td>31.000000</td>\n",
       "      <td>1.000000</td>\n",
       "      <td>1.000000</td>\n",
       "      <td>1.000000</td>\n",
       "      <td>9657.000000</td>\n",
       "      <td>1812.000000</td>\n",
       "      <td>47.768032</td>\n",
       "      <td>10.364311</td>\n",
       "      <td>224.000000</td>\n",
       "      <td>224.000000</td>\n",
       "      <td>2.000000</td>\n",
       "      <td>1.000000</td>\n",
       "      <td>1275.000000</td>\n",
       "    </tr>\n",
       "  </tbody>\n",
       "</table>\n",
       "</div>"
      ]
     },
     "execution_count": 21,
     "metadata": {},
     "output_type": "execute_result"
    }
   ],
   "execution_count": 21
  }
 ],
 "metadata": {
  "kernelspec": {
   "display_name": "Python 3",
   "language": "python",
   "name": "python3"
  },
  "language_info": {
   "codemirror_mode": {
    "name": "ipython",
    "version": 2
   },
   "file_extension": ".py",
   "mimetype": "text/x-python",
   "name": "python",
   "nbconvert_exporter": "python",
   "pygments_lexer": "ipython2",
   "version": "2.7.6"
  }
 },
 "nbformat": 4,
 "nbformat_minor": 5
}
