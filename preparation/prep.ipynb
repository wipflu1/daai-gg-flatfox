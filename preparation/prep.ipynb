{
 "cells": [
  {
   "cell_type": "markdown",
   "source": [
    "# Imports"
   ],
   "metadata": {
    "collapsed": false
   },
   "id": "2dacbbe7fbb4cdc4"
  },
  {
   "cell_type": "code",
   "execution_count": 1,
   "id": "initial_id",
   "metadata": {
    "collapsed": true,
    "ExecuteTime": {
     "end_time": "2024-07-04T07:34:39.443213Z",
     "start_time": "2024-07-04T07:34:38.625161Z"
    }
   },
   "outputs": [],
   "source": [
    "import numpy as np\n",
    "import pandas as pd"
   ]
  },
  {
   "cell_type": "markdown",
   "source": [
    "Initialize functions"
   ],
   "metadata": {
    "collapsed": false
   },
   "id": "57823dfb87c092aa"
  },
  {
   "cell_type": "code",
   "outputs": [],
   "source": [
    "def categorize(df, categories):\n",
    "    for category in categories:\n",
    "        df[category] = pd.Categorical(df[category]).codes\n",
    "    return df\n",
    "\n",
    "def numberize(df, numerics):\n",
    "    for numeric in numerics:\n",
    "        df[numeric] = df[numeric].astype(\"float\")\n",
    "    return df\n",
    "\n",
    "def clean_year(year):\n",
    "    return 2024 - year\n",
    "\n",
    "# Function to clean year_built values\n",
    "def clean_year_built(year):\n",
    "    try:\n",
    "        # Attempt to convert the value to an integer\n",
    "        year = int(float(year))  # Handles both integer and float strings\n",
    "        year_str = str(year)\n",
    "\n",
    "        # Ensure the string is exactly 4 characters long\n",
    "        if len(year_str) > 4:\n",
    "            return int(year_str[:4])\n",
    "        elif len(year_str) < 4:\n",
    "            return int(year_str.ljust(4, '0'))  # Pads with zeros if less than 4 digits\n",
    "        else:\n",
    "            return year\n",
    "    except (ValueError, TypeError):\n",
    "        # Return NaN for non-numeric values or None\n",
    "        return pd.NA\n",
    "    "
   ],
   "metadata": {
    "collapsed": false,
    "ExecuteTime": {
     "end_time": "2024-07-04T07:34:40.781750Z",
     "start_time": "2024-07-04T07:34:40.772269Z"
    }
   },
   "id": "d4a5ee89bab12c43",
   "execution_count": 2
  },
  {
   "cell_type": "markdown",
   "source": [
    "load and prepare the data"
   ],
   "metadata": {
    "collapsed": false
   },
   "id": "e1b96fc10d53a41f"
  },
  {
   "cell_type": "code",
   "outputs": [
    {
     "name": "stdout",
     "output_type": "stream",
     "text": [
      "   object_category  object_type  price_display price_display_type price_unit  \\\n",
      "3        APARTMENT  SINGLE_ROOM          610.0              TOTAL    monthly   \n",
      "5        APARTMENT    APARTMENT         2370.0              TOTAL    monthly   \n",
      "23       APARTMENT    APARTMENT         3104.0              TOTAL    monthly   \n",
      "24       APARTMENT    APARTMENT         4246.0              TOTAL    monthly   \n",
      "25       APARTMENT    APARTMENT         5076.0              TOTAL    monthly   \n",
      "\n",
      "    number_of_rooms  floor  is_furnished  is_temporary  is_selling_furniture  \\\n",
      "3               1.0    0.0          True         False                 False   \n",
      "5               2.5    0.0         False         False                 False   \n",
      "23              0.0    0.0         False         False                 False   \n",
      "24              1.0    0.0         False         False                 False   \n",
      "25              2.0    0.0         False         False                 False   \n",
      "\n",
      "    zipcode        city   latitude  longitude  year_built  year_renovated  \\\n",
      "3      9008  St. Gallen  47.442430   9.392510   39.479863       39.479863   \n",
      "5      2000   Neuchâtel  46.798803   6.855010   20.000000       20.000000   \n",
      "23     8001      Zurich  47.369826   8.531797   39.479863       39.479863   \n",
      "24     8001      Zurich  47.369826   8.531797   39.479863       39.479863   \n",
      "25     8001      Zurich  47.369826   8.531797   39.479863       39.479863   \n",
      "\n",
      "   moving_date_type  reserved  livingspace  \n",
      "3               dat     False         17.0  \n",
      "5               imm     False        145.0  \n",
      "23              agr     False         24.0  \n",
      "24              agr     False         36.0  \n",
      "25              agr     False         46.0  \n"
     ]
    },
    {
     "data": {
      "text/plain": "       object_category   object_type  price_display  price_display_type  \\\ncount     11724.000000  11724.000000   11724.000000        11724.000000   \nmean          0.028233      1.771836    2122.884766            0.999829   \nstd           0.165644      3.899079    1087.901432            0.013060   \nmin           0.000000      0.000000       1.000000            0.000000   \n25%           0.000000      0.000000    1480.000000            1.000000   \n50%           0.000000      0.000000    1870.000000            1.000000   \n75%           0.000000      0.000000    2500.000000            1.000000   \nmax           1.000000     19.000000   15000.000000            1.000000   \n\n         price_unit  number_of_rooms         floor  is_furnished  \\\ncount  11724.000000     11724.000000  11724.000000  11724.000000   \nmean       0.000171         3.262410      1.990020      0.164961   \nstd        0.013060         1.322995      2.159625      0.371161   \nmin        0.000000         0.000000     -5.000000      0.000000   \n25%        0.000000         2.500000      1.000000      0.000000   \n50%        0.000000         3.500000      2.000000      0.000000   \n75%        0.000000         4.500000      3.000000      0.000000   \nmax        1.000000        10.500000     31.000000      1.000000   \n\n       is_temporary  is_selling_furniture       zipcode          city  \\\ncount  11724.000000          11724.000000  11724.000000  11724.000000   \nmean       0.072501              0.027721   5372.672637    923.062692   \nstd        0.259326              0.164179   2696.155419    576.256038   \nmin        0.000000              0.000000   1000.000000      0.000000   \n25%        0.000000              0.000000   3072.000000    412.000000   \n50%        0.000000              0.000000   4833.000000    892.000000   \n75%        0.000000              0.000000   8052.000000   1422.000000   \nmax        1.000000              1.000000   9657.000000   1812.000000   \n\n           latitude     longitude    year_built  year_renovated  \\\ncount  11724.000000  11724.000000  11724.000000    11724.000000   \nmean      47.147571      7.993014     39.471739       29.888156   \nstd        0.413635      0.841675     23.461238       20.711948   \nmin       45.826182      5.991881     -1.000000       -1.000000   \n25%       46.950762      7.445634     39.479863        9.000000   \n50%       47.318822      7.909561     39.479863       39.479863   \n75%       47.434064      8.573304     39.479863       39.479863   \nmax       47.768032     10.364311    224.000000      224.000000   \n\n       moving_date_type      reserved   livingspace  \ncount      11724.000000  11724.000000  11724.000000  \nmean           1.016888      0.000597     73.392613  \nstd            0.727863      0.024429     48.428886  \nmin            0.000000      0.000000      0.000000  \n25%            0.000000      0.000000     47.000000  \n50%            1.000000      0.000000     74.000000  \n75%            2.000000      0.000000     97.000000  \nmax            2.000000      1.000000   1275.000000  ",
      "text/html": "<div>\n<style scoped>\n    .dataframe tbody tr th:only-of-type {\n        vertical-align: middle;\n    }\n\n    .dataframe tbody tr th {\n        vertical-align: top;\n    }\n\n    .dataframe thead th {\n        text-align: right;\n    }\n</style>\n<table border=\"1\" class=\"dataframe\">\n  <thead>\n    <tr style=\"text-align: right;\">\n      <th></th>\n      <th>object_category</th>\n      <th>object_type</th>\n      <th>price_display</th>\n      <th>price_display_type</th>\n      <th>price_unit</th>\n      <th>number_of_rooms</th>\n      <th>floor</th>\n      <th>is_furnished</th>\n      <th>is_temporary</th>\n      <th>is_selling_furniture</th>\n      <th>zipcode</th>\n      <th>city</th>\n      <th>latitude</th>\n      <th>longitude</th>\n      <th>year_built</th>\n      <th>year_renovated</th>\n      <th>moving_date_type</th>\n      <th>reserved</th>\n      <th>livingspace</th>\n    </tr>\n  </thead>\n  <tbody>\n    <tr>\n      <th>count</th>\n      <td>11724.000000</td>\n      <td>11724.000000</td>\n      <td>11724.000000</td>\n      <td>11724.000000</td>\n      <td>11724.000000</td>\n      <td>11724.000000</td>\n      <td>11724.000000</td>\n      <td>11724.000000</td>\n      <td>11724.000000</td>\n      <td>11724.000000</td>\n      <td>11724.000000</td>\n      <td>11724.000000</td>\n      <td>11724.000000</td>\n      <td>11724.000000</td>\n      <td>11724.000000</td>\n      <td>11724.000000</td>\n      <td>11724.000000</td>\n      <td>11724.000000</td>\n      <td>11724.000000</td>\n    </tr>\n    <tr>\n      <th>mean</th>\n      <td>0.028233</td>\n      <td>1.771836</td>\n      <td>2122.884766</td>\n      <td>0.999829</td>\n      <td>0.000171</td>\n      <td>3.262410</td>\n      <td>1.990020</td>\n      <td>0.164961</td>\n      <td>0.072501</td>\n      <td>0.027721</td>\n      <td>5372.672637</td>\n      <td>923.062692</td>\n      <td>47.147571</td>\n      <td>7.993014</td>\n      <td>39.471739</td>\n      <td>29.888156</td>\n      <td>1.016888</td>\n      <td>0.000597</td>\n      <td>73.392613</td>\n    </tr>\n    <tr>\n      <th>std</th>\n      <td>0.165644</td>\n      <td>3.899079</td>\n      <td>1087.901432</td>\n      <td>0.013060</td>\n      <td>0.013060</td>\n      <td>1.322995</td>\n      <td>2.159625</td>\n      <td>0.371161</td>\n      <td>0.259326</td>\n      <td>0.164179</td>\n      <td>2696.155419</td>\n      <td>576.256038</td>\n      <td>0.413635</td>\n      <td>0.841675</td>\n      <td>23.461238</td>\n      <td>20.711948</td>\n      <td>0.727863</td>\n      <td>0.024429</td>\n      <td>48.428886</td>\n    </tr>\n    <tr>\n      <th>min</th>\n      <td>0.000000</td>\n      <td>0.000000</td>\n      <td>1.000000</td>\n      <td>0.000000</td>\n      <td>0.000000</td>\n      <td>0.000000</td>\n      <td>-5.000000</td>\n      <td>0.000000</td>\n      <td>0.000000</td>\n      <td>0.000000</td>\n      <td>1000.000000</td>\n      <td>0.000000</td>\n      <td>45.826182</td>\n      <td>5.991881</td>\n      <td>-1.000000</td>\n      <td>-1.000000</td>\n      <td>0.000000</td>\n      <td>0.000000</td>\n      <td>0.000000</td>\n    </tr>\n    <tr>\n      <th>25%</th>\n      <td>0.000000</td>\n      <td>0.000000</td>\n      <td>1480.000000</td>\n      <td>1.000000</td>\n      <td>0.000000</td>\n      <td>2.500000</td>\n      <td>1.000000</td>\n      <td>0.000000</td>\n      <td>0.000000</td>\n      <td>0.000000</td>\n      <td>3072.000000</td>\n      <td>412.000000</td>\n      <td>46.950762</td>\n      <td>7.445634</td>\n      <td>39.479863</td>\n      <td>9.000000</td>\n      <td>0.000000</td>\n      <td>0.000000</td>\n      <td>47.000000</td>\n    </tr>\n    <tr>\n      <th>50%</th>\n      <td>0.000000</td>\n      <td>0.000000</td>\n      <td>1870.000000</td>\n      <td>1.000000</td>\n      <td>0.000000</td>\n      <td>3.500000</td>\n      <td>2.000000</td>\n      <td>0.000000</td>\n      <td>0.000000</td>\n      <td>0.000000</td>\n      <td>4833.000000</td>\n      <td>892.000000</td>\n      <td>47.318822</td>\n      <td>7.909561</td>\n      <td>39.479863</td>\n      <td>39.479863</td>\n      <td>1.000000</td>\n      <td>0.000000</td>\n      <td>74.000000</td>\n    </tr>\n    <tr>\n      <th>75%</th>\n      <td>0.000000</td>\n      <td>0.000000</td>\n      <td>2500.000000</td>\n      <td>1.000000</td>\n      <td>0.000000</td>\n      <td>4.500000</td>\n      <td>3.000000</td>\n      <td>0.000000</td>\n      <td>0.000000</td>\n      <td>0.000000</td>\n      <td>8052.000000</td>\n      <td>1422.000000</td>\n      <td>47.434064</td>\n      <td>8.573304</td>\n      <td>39.479863</td>\n      <td>39.479863</td>\n      <td>2.000000</td>\n      <td>0.000000</td>\n      <td>97.000000</td>\n    </tr>\n    <tr>\n      <th>max</th>\n      <td>1.000000</td>\n      <td>19.000000</td>\n      <td>15000.000000</td>\n      <td>1.000000</td>\n      <td>1.000000</td>\n      <td>10.500000</td>\n      <td>31.000000</td>\n      <td>1.000000</td>\n      <td>1.000000</td>\n      <td>1.000000</td>\n      <td>9657.000000</td>\n      <td>1812.000000</td>\n      <td>47.768032</td>\n      <td>10.364311</td>\n      <td>224.000000</td>\n      <td>224.000000</td>\n      <td>2.000000</td>\n      <td>1.000000</td>\n      <td>1275.000000</td>\n    </tr>\n  </tbody>\n</table>\n</div>"
     },
     "execution_count": 23,
     "metadata": {},
     "output_type": "execute_result"
    }
   ],
   "source": [
    "df = pd.read_csv(\"flatfox.csv\", low_memory=False)\n",
    "df.drop(df[df[\"offer_type\"] != \"RENT\"].index, inplace=True)\n",
    "relevant_cat = [\"APARTMENT\", \"HOUSE\"]\n",
    "df.drop(df[~df[\"object_category\"].isin(relevant_cat)].index, inplace=True)\n",
    "# remove columns with wrong year\n",
    "df.drop(df[df[\"year_built\"] < 1800].index, inplace=True)\n",
    "df.drop(df[df[\"year_built\"] > 2030].index, inplace=True)\n",
    "# NaN  in floors is replaced by 0\n",
    "# year_built has unrealistic values (for example 19 Million)\n",
    "#df['year_built'] = df['year_built'].apply(clean_year_built)\n",
    "\n",
    "df.fillna({\"year_built\": df[\"year_built\"].mean(), \"floor\": 0.0, \"year_renovated\": df[\"year_built\"], \"number_of_rooms\": 0.0, \"livingspace\": 0.0}, inplace=True)\n",
    "\n",
    "df.loc[df[\"year_renovated\"] < 1800, \"year_renovated\"] = df[\"year_built\"]\n",
    "\n",
    "df[\"year_renovated\"] = df[\"year_renovated\"].apply(clean_year)\n",
    "df[\"year_built\"] = df[\"year_built\"].apply(clean_year)\n",
    "\n",
    "df.dropna(subset=[\"price_display\"], inplace=True)\n",
    "df.drop([\n",
    "    \"pk\",\n",
    "    \"slug\",\n",
    "    \"url\",\n",
    "    \"short_url\",\n",
    "    \"moving_date\",\n",
    "    \"rent_net\",\n",
    "    \"rent_charges\",\n",
    "    \"rent_gross\",\n",
    "    \"offer_type\",\n",
    "    \"submit_url\",\n",
    "    \"status\",\n",
    "    \"created\",\n",
    "    \"reference\",\n",
    "    \"ref_property\",\n",
    "    \"ref_house\",\n",
    "    \"ref_object\",\n",
    "    \"alternative_reference\",\n",
    "    \"published\",\n",
    "    \"short_title\",\n",
    "    \"public_title\",\n",
    "    \"pitch_title\",\n",
    "    \"description_title\",\n",
    "    \"description\",\n",
    "    \"attributes\",\n",
    "    \"public_address\",\n",
    "    \"video_url\",\n",
    "    \"tour_url\",\n",
    "    \"website_url\",\n",
    "    \"live_viewing_url\",\n",
    "    \"cover_image\",\n",
    "    \"images\",\n",
    "    \"documents\",\n",
    "    \"agency\",\n",
    "    \"rent_title\",\n",
    "    \"surface_property\",\n",
    "    \"surface_living\",\n",
    "    \"surface_usable\",\n",
    "    \"surface_usable_minimum\",\n",
    "    \"volume\",\n",
    "    \"space_display\",\n",
    "    \"street\"], axis=1, inplace=True)\n",
    "\n",
    "categories = [\n",
    "    \"object_category\",\n",
    "    \"object_type\",\n",
    "    \"price_display_type\",\n",
    "    \"price_unit\",\n",
    "    \"city\",\n",
    "    \"moving_date_type\"\n",
    "]\n",
    "numerics = [\n",
    "    \"is_furnished\",\n",
    "    \"is_temporary\",\n",
    "    \"is_selling_furniture\",\n",
    "    \"reserved\"\n",
    "]\n",
    "\n",
    "categorize(df, categories)\n",
    "numberize(df, numerics)\n",
    "df.describe()\n",
    "#df.head()\n",
    "#df.isna().sum()\n",
    "#df.dtypes"
   ],
   "metadata": {
    "collapsed": false,
    "ExecuteTime": {
     "end_time": "2024-07-04T07:56:53.376914Z",
     "start_time": "2024-07-04T07:56:50.958151Z"
    }
   },
   "id": "512ec33fa03c9023",
   "execution_count": 23
  },
  {
   "cell_type": "markdown",
   "source": [
    "count all years: 21040\n",
    "\n",
    "count 1500-2024: 20725\n",
    "\n",
    "count 1800-2024: 20672\n",
    "\n",
    "\n",
    "Write clean data to csv"
   ],
   "metadata": {
    "collapsed": false
   },
   "id": "d3e091b141b4ef5b"
  },
  {
   "cell_type": "code",
   "outputs": [],
   "source": [
    "df.to_csv(\"flatfox_no_parking_clean.csv\", index=False)"
   ],
   "metadata": {
    "collapsed": false,
    "ExecuteTime": {
     "end_time": "2024-07-04T07:57:46.432273Z",
     "start_time": "2024-07-04T07:57:46.197673Z"
    }
   },
   "id": "a8754b89af9037e8",
   "execution_count": 24
  },
  {
   "cell_type": "markdown",
   "source": [
    "Create profiling report"
   ],
   "metadata": {
    "collapsed": false
   },
   "id": "d60eee58185a6684"
  },
  {
   "cell_type": "code",
   "outputs": [],
   "source": [
    "from ydata_profiling import ProfileReport\n",
    "ProfileReport(pd.read_csv(\"flatfox.csv\", low_memory=False).drop([\"created\", \"published\"], axis=1), title=\"Flatfox raw Profiling\").to_file(\"flatfox_profiling.html\")\n",
    "ProfileReport(pd.read_csv(\"flatfox_clean.csv\", low_memory=False), title=\"Flatfox clean Profiling\").to_file(\"flatfox_clean_profiling.html\")\n",
    "ProfileReport(pd.read_csv(\"flatfox_no_parking_clean.csv\", low_memory=False), title=\"Flatfox clean apartment Profiling\").to_file(\"flatfox_no_parking_clean_profiling.html\")"
   ],
   "metadata": {
    "collapsed": false
   },
   "id": "211541a595b2f98f",
   "execution_count": null
  }
 ],
 "metadata": {
  "kernelspec": {
   "display_name": "Python 3",
   "language": "python",
   "name": "python3"
  },
  "language_info": {
   "codemirror_mode": {
    "name": "ipython",
    "version": 2
   },
   "file_extension": ".py",
   "mimetype": "text/x-python",
   "name": "python",
   "nbconvert_exporter": "python",
   "pygments_lexer": "ipython2",
   "version": "2.7.6"
  }
 },
 "nbformat": 4,
 "nbformat_minor": 5
}
