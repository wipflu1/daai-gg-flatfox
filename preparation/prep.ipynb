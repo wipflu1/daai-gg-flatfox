{
 "cells": [
  {
   "cell_type": "markdown",
   "source": [
    "# Imports"
   ],
   "metadata": {
    "collapsed": false
   },
   "id": "2dacbbe7fbb4cdc4"
  },
  {
   "cell_type": "code",
   "execution_count": 3,
   "id": "initial_id",
   "metadata": {
    "collapsed": true,
    "ExecuteTime": {
     "end_time": "2024-07-03T11:13:42.235261Z",
     "start_time": "2024-07-03T11:13:42.230556Z"
    }
   },
   "outputs": [],
   "source": [
    "import pandas as pd"
   ]
  },
  {
   "cell_type": "markdown",
   "source": [
    "Initialize functions"
   ],
   "metadata": {
    "collapsed": false
   },
   "id": "57823dfb87c092aa"
  },
  {
   "cell_type": "code",
   "outputs": [],
   "source": [
    "def categorize(df, categories):\n",
    "    for category in categories:\n",
    "        df[category] = pd.Categorical(df[category]).codes\n",
    "    return df\n",
    "\n",
    "def numberize(df, numerics):\n",
    "    for numeric in numerics:\n",
    "        df[numeric] = df[numeric].astype(\"float\")\n",
    "    return df"
   ],
   "metadata": {
    "collapsed": false,
    "ExecuteTime": {
     "end_time": "2024-07-03T11:13:44.362731Z",
     "start_time": "2024-07-03T11:13:44.357025Z"
    }
   },
   "id": "15c1f7bef8b0e1e1",
   "execution_count": 4
  },
  {
   "cell_type": "markdown",
   "source": [
    "load and prepare the data"
   ],
   "metadata": {
    "collapsed": false
   },
   "id": "1ab6248c833ee646"
  },
  {
   "cell_type": "code",
   "outputs": [
    {
     "name": "stderr",
     "output_type": "stream",
     "text": [
      "/tmp/ipykernel_32338/1955242185.py:1: DtypeWarning: Columns (52) have mixed types. Specify dtype option on import or set low_memory=False.\n",
      "  df = pd.read_csv(\"flatfox.csv\")\n"
     ]
    },
    {
     "data": {
      "text/plain": "   object_category  object_type  price_display  price_display_type  \\\n1                5           27          130.0                   1   \n2                4            4         2325.0                   1   \n3                0           51          610.0                   1   \n4                8           47         1350.0                   1   \n5                0            2         2370.0                   1   \n\n   price_unit  number_of_rooms  floor  is_furnished  is_temporary  \\\n1           1              0.0    0.0           0.0           0.0   \n2           1              0.0    0.0           0.0           0.0   \n3           1              1.0    0.0           1.0           0.0   \n4           1              1.0    5.0           1.0           1.0   \n5           1              2.5    0.0           0.0           0.0   \n\n   is_selling_furniture  zipcode  city   latitude  longitude  year_built  \\\n1                   0.0     5600  1013  47.384753    8.18275  4111.23695   \n2                   0.0     8600   504  47.397886    8.60085  2018.00000   \n3                   0.0     9008  1696  47.442430    9.39251  4111.23695   \n4                   0.0     8005  2083  47.389303    8.51320  2004.00000   \n5                   0.0     2000  1203  46.798803    6.85501  2004.00000   \n\n   year_renovated  moving_date_type  reserved  livingspace  \n1      4111.23695                 0       0.0          0.0  \n2      2018.00000                 2       0.0        119.0  \n3      4111.23695                 1       0.0         17.0  \n4      2004.00000                 1       0.0         18.0  \n5      2004.00000                 2       0.0        145.0  ",
      "text/html": "<div>\n<style scoped>\n    .dataframe tbody tr th:only-of-type {\n        vertical-align: middle;\n    }\n\n    .dataframe tbody tr th {\n        vertical-align: top;\n    }\n\n    .dataframe thead th {\n        text-align: right;\n    }\n</style>\n<table border=\"1\" class=\"dataframe\">\n  <thead>\n    <tr style=\"text-align: right;\">\n      <th></th>\n      <th>object_category</th>\n      <th>object_type</th>\n      <th>price_display</th>\n      <th>price_display_type</th>\n      <th>price_unit</th>\n      <th>number_of_rooms</th>\n      <th>floor</th>\n      <th>is_furnished</th>\n      <th>is_temporary</th>\n      <th>is_selling_furniture</th>\n      <th>zipcode</th>\n      <th>city</th>\n      <th>latitude</th>\n      <th>longitude</th>\n      <th>year_built</th>\n      <th>year_renovated</th>\n      <th>moving_date_type</th>\n      <th>reserved</th>\n      <th>livingspace</th>\n    </tr>\n  </thead>\n  <tbody>\n    <tr>\n      <th>1</th>\n      <td>5</td>\n      <td>27</td>\n      <td>130.0</td>\n      <td>1</td>\n      <td>1</td>\n      <td>0.0</td>\n      <td>0.0</td>\n      <td>0.0</td>\n      <td>0.0</td>\n      <td>0.0</td>\n      <td>5600</td>\n      <td>1013</td>\n      <td>47.384753</td>\n      <td>8.18275</td>\n      <td>4111.23695</td>\n      <td>4111.23695</td>\n      <td>0</td>\n      <td>0.0</td>\n      <td>0.0</td>\n    </tr>\n    <tr>\n      <th>2</th>\n      <td>4</td>\n      <td>4</td>\n      <td>2325.0</td>\n      <td>1</td>\n      <td>1</td>\n      <td>0.0</td>\n      <td>0.0</td>\n      <td>0.0</td>\n      <td>0.0</td>\n      <td>0.0</td>\n      <td>8600</td>\n      <td>504</td>\n      <td>47.397886</td>\n      <td>8.60085</td>\n      <td>2018.00000</td>\n      <td>2018.00000</td>\n      <td>2</td>\n      <td>0.0</td>\n      <td>119.0</td>\n    </tr>\n    <tr>\n      <th>3</th>\n      <td>0</td>\n      <td>51</td>\n      <td>610.0</td>\n      <td>1</td>\n      <td>1</td>\n      <td>1.0</td>\n      <td>0.0</td>\n      <td>1.0</td>\n      <td>0.0</td>\n      <td>0.0</td>\n      <td>9008</td>\n      <td>1696</td>\n      <td>47.442430</td>\n      <td>9.39251</td>\n      <td>4111.23695</td>\n      <td>4111.23695</td>\n      <td>1</td>\n      <td>0.0</td>\n      <td>17.0</td>\n    </tr>\n    <tr>\n      <th>4</th>\n      <td>8</td>\n      <td>47</td>\n      <td>1350.0</td>\n      <td>1</td>\n      <td>1</td>\n      <td>1.0</td>\n      <td>5.0</td>\n      <td>1.0</td>\n      <td>1.0</td>\n      <td>0.0</td>\n      <td>8005</td>\n      <td>2083</td>\n      <td>47.389303</td>\n      <td>8.51320</td>\n      <td>2004.00000</td>\n      <td>2004.00000</td>\n      <td>1</td>\n      <td>0.0</td>\n      <td>18.0</td>\n    </tr>\n    <tr>\n      <th>5</th>\n      <td>0</td>\n      <td>2</td>\n      <td>2370.0</td>\n      <td>1</td>\n      <td>1</td>\n      <td>2.5</td>\n      <td>0.0</td>\n      <td>0.0</td>\n      <td>0.0</td>\n      <td>0.0</td>\n      <td>2000</td>\n      <td>1203</td>\n      <td>46.798803</td>\n      <td>6.85501</td>\n      <td>2004.00000</td>\n      <td>2004.00000</td>\n      <td>2</td>\n      <td>0.0</td>\n      <td>145.0</td>\n    </tr>\n  </tbody>\n</table>\n</div>"
     },
     "execution_count": 5,
     "metadata": {},
     "output_type": "execute_result"
    }
   ],
   "source": [
    "df = pd.read_csv(\"flatfox.csv\")\n",
    "df.drop(df[df[\"offer_type\"] != \"RENT\"].index, inplace=True)\n",
    "# NaN  in floors is replaced by 0\n",
    "df.fillna({\"year_built\": df[\"year_built\"].mean(), \"floor\": 0.0, \"number_of_rooms\": 0.0, \"year_renovated\": df[\"year_built\"], \"livingspace\": 0.0}, inplace=True)\n",
    "df.dropna(subset=[\"price_display\"], inplace=True)\n",
    "df.drop([\n",
    "    \"pk\",\n",
    "    \"slug\",\n",
    "    \"url\",\n",
    "    \"short_url\",\n",
    "    \"moving_date\",\n",
    "    \"rent_net\",\n",
    "    \"rent_charges\",\n",
    "    \"rent_gross\",\n",
    "    \"offer_type\",\n",
    "    \"submit_url\",\n",
    "    \"status\",\n",
    "    \"created\",\n",
    "    \"reference\",\n",
    "    \"ref_property\",\n",
    "    \"ref_house\",\n",
    "    \"ref_object\",\n",
    "    \"alternative_reference\",\n",
    "    \"published\",\n",
    "    \"short_title\",\n",
    "    \"public_title\",\n",
    "    \"pitch_title\",\n",
    "    \"description_title\",\n",
    "    \"description\",\n",
    "    \"attributes\",\n",
    "    \"public_address\",\n",
    "    \"video_url\",\n",
    "    \"tour_url\",\n",
    "    \"website_url\",\n",
    "    \"live_viewing_url\",\n",
    "    \"cover_image\",\n",
    "    \"images\",\n",
    "    \"documents\",\n",
    "    \"agency\",\n",
    "    \"rent_title\",\n",
    "    \"surface_property\",\n",
    "    \"surface_living\",\n",
    "    \"surface_usable\",\n",
    "    \"surface_usable_minimum\",\n",
    "    \"volume\",\n",
    "    \"space_display\",\n",
    "    \"street\"], axis=1, inplace=True)\n",
    "\n",
    "categories = [\n",
    "    \"object_category\",\n",
    "    \"object_type\",\n",
    "    \"price_display_type\",\n",
    "    \"price_unit\",\n",
    "    \"city\",\n",
    "    \"moving_date_type\"\n",
    "]\n",
    "numerics = [\n",
    "    \"is_furnished\",\n",
    "    \"is_temporary\",\n",
    "    \"is_selling_furniture\",\n",
    "    \"reserved\"\n",
    "]\n",
    "categorize(df, categories)\n",
    "numberize(df, numerics)\n",
    "#df.describe()\n",
    "df.head()\n",
    "#df.isna().sum()\n",
    "#df.dtypes"
   ],
   "metadata": {
    "collapsed": false,
    "ExecuteTime": {
     "end_time": "2024-07-03T11:13:49.057253Z",
     "start_time": "2024-07-03T11:13:46.673765Z"
    }
   },
   "id": "20bb757ccd29f5e3",
   "execution_count": 5
  },
  {
   "cell_type": "markdown",
   "source": [
    "Write clean data to csv"
   ],
   "metadata": {
    "collapsed": false
   },
   "id": "9696c14d7753fd6c"
  },
  {
   "cell_type": "code",
   "outputs": [],
   "source": [
    "df.to_csv(\"flatfox_clean.csv\", index=False)"
   ],
   "metadata": {
    "collapsed": false,
    "ExecuteTime": {
     "end_time": "2024-07-03T07:17:07.029302Z",
     "start_time": "2024-07-03T07:17:06.617630Z"
    }
   },
   "id": "a7ed6c32c2df853b",
   "execution_count": 21
  },
  {
   "cell_type": "markdown",
   "source": [
    "Add profiling"
   ],
   "metadata": {
    "collapsed": false
   },
   "id": "d098e908db99773"
  },
  {
   "cell_type": "code",
   "outputs": [
    {
     "data": {
      "text/plain": "Summarize dataset:   0%|          | 0/5 [00:00<?, ?it/s]",
      "application/vnd.jupyter.widget-view+json": {
       "version_major": 2,
       "version_minor": 0,
       "model_id": "e0ab5d5aaebe43c384d4cbff86b98a66"
      }
     },
     "metadata": {},
     "output_type": "display_data"
    },
    {
     "name": "stderr",
     "output_type": "stream",
     "text": [
      "/home/lukaswipf/zhaw/semester5/DAAI/schweizerland/project/daai-gg-flatfox/.venv/lib/python3.12/site-packages/ydata_profiling/model/correlations.py:66: UserWarning: There was an attempt to calculate the auto correlation, but this failed.\n",
      "To hide this warning, disable the calculation\n",
      "(using `df.profile_report(correlations={\"auto\": {\"calculate\": False}})`\n",
      "If this is problematic for your use case, please report this as an issue:\n",
      "https://github.com/ydataai/ydata-profiling/issues\n",
      "(include the error message: 'could not convert string to float: 'agr'')\n",
      "  warnings.warn(\n"
     ]
    },
    {
     "data": {
      "text/plain": "Generate report structure:   0%|          | 0/1 [00:00<?, ?it/s]",
      "application/vnd.jupyter.widget-view+json": {
       "version_major": 2,
       "version_minor": 0,
       "model_id": "70ea4b798b094bc989d577ca4b97a216"
      }
     },
     "metadata": {},
     "output_type": "display_data"
    },
    {
     "data": {
      "text/plain": "Render HTML:   0%|          | 0/1 [00:00<?, ?it/s]",
      "application/vnd.jupyter.widget-view+json": {
       "version_major": 2,
       "version_minor": 0,
       "model_id": "a0ae56a8b9734460b1fb2c0f8949510e"
      }
     },
     "metadata": {},
     "output_type": "display_data"
    },
    {
     "data": {
      "text/plain": "Export report to file:   0%|          | 0/1 [00:00<?, ?it/s]",
      "application/vnd.jupyter.widget-view+json": {
       "version_major": 2,
       "version_minor": 0,
       "model_id": "97222e43de284fbfae033b68fdfc7d38"
      }
     },
     "metadata": {},
     "output_type": "display_data"
    },
    {
     "data": {
      "text/plain": "Summarize dataset:   0%|          | 0/5 [00:00<?, ?it/s]",
      "application/vnd.jupyter.widget-view+json": {
       "version_major": 2,
       "version_minor": 0,
       "model_id": "d7f2df994b8c4787985c8cafcd06c211"
      }
     },
     "metadata": {},
     "output_type": "display_data"
    },
    {
     "data": {
      "text/plain": "Generate report structure:   0%|          | 0/1 [00:00<?, ?it/s]",
      "application/vnd.jupyter.widget-view+json": {
       "version_major": 2,
       "version_minor": 0,
       "model_id": "6c916fa3afa7442891cc713cd3202e9a"
      }
     },
     "metadata": {},
     "output_type": "display_data"
    },
    {
     "data": {
      "text/plain": "Render HTML:   0%|          | 0/1 [00:00<?, ?it/s]",
      "application/vnd.jupyter.widget-view+json": {
       "version_major": 2,
       "version_minor": 0,
       "model_id": "dcbe97ab15024e9a8f78dabe26d842d7"
      }
     },
     "metadata": {},
     "output_type": "display_data"
    },
    {
     "data": {
      "text/plain": "Export report to file:   0%|          | 0/1 [00:00<?, ?it/s]",
      "application/vnd.jupyter.widget-view+json": {
       "version_major": 2,
       "version_minor": 0,
       "model_id": "c9d783f0ad724db49be5944c8c36c2c2"
      }
     },
     "metadata": {},
     "output_type": "display_data"
    }
   ],
   "source": [
    "from ydata_profiling import ProfileReport\n",
    "ProfileReport(pd.read_csv(\"flatfox.csv\", low_memory=False).drop([\"created\", \"published\"], axis=1), title=\"Flatfox Profiling\").to_file(\"flatfox_profiling.html\")\n",
    "ProfileReport(pd.read_csv(\"flatfox_clean.csv\", low_memory=False), title=\"Flatfox Profiling\").to_file(\"flatfox_clean_profiling.html\")"
   ],
   "metadata": {
    "collapsed": false,
    "ExecuteTime": {
     "end_time": "2024-07-03T12:14:57.378276Z",
     "start_time": "2024-07-03T12:11:18.181170Z"
    }
   },
   "id": "db35a7589beef5f3",
   "execution_count": 26
  }
 ],
 "metadata": {
  "kernelspec": {
   "display_name": "Python 3",
   "language": "python",
   "name": "python3"
  },
  "language_info": {
   "codemirror_mode": {
    "name": "ipython",
    "version": 2
   },
   "file_extension": ".py",
   "mimetype": "text/x-python",
   "name": "python",
   "nbconvert_exporter": "python",
   "pygments_lexer": "ipython2",
   "version": "2.7.6"
  }
 },
 "nbformat": 4,
 "nbformat_minor": 5
}
