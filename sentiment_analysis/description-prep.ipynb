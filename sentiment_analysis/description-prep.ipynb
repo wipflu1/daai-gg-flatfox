{
 "cells": [
  {
   "cell_type": "markdown",
   "id": "2dacbbe7fbb4cdc4",
   "metadata": {
    "collapsed": false
   },
   "source": [
    "# Imports"
   ]
  },
  {
   "cell_type": "code",
   "execution_count": 1,
   "id": "initial_id",
   "metadata": {
    "ExecuteTime": {
     "end_time": "2024-07-03T07:28:33.217711Z",
     "start_time": "2024-07-03T07:28:33.212169Z"
    },
    "collapsed": true
   },
   "outputs": [],
   "source": [
    "import pandas as pd"
   ]
  },
  {
   "cell_type": "markdown",
   "id": "57823dfb87c092aa",
   "metadata": {
    "collapsed": false
   },
   "source": [
    "Initialize functions"
   ]
  },
  {
   "cell_type": "code",
   "execution_count": 3,
   "id": "15c1f7bef8b0e1e1",
   "metadata": {
    "ExecuteTime": {
     "end_time": "2024-07-03T07:28:34.630286Z",
     "start_time": "2024-07-03T07:28:34.621302Z"
    },
    "collapsed": false
   },
   "outputs": [],
   "source": [
    "def categorize(df, categories):\n",
    "    for category in categories:\n",
    "        df[category] = pd.Categorical(df[category]).codes\n",
    "    return df\n",
    "\n",
    "def numberize(df, numerics):\n",
    "    for numeric in numerics:\n",
    "        df[numeric] = df[numeric].astype(\"float\")\n",
    "    return df"
   ]
  },
  {
   "cell_type": "markdown",
   "id": "1ab6248c833ee646",
   "metadata": {
    "collapsed": false
   },
   "source": [
    "load and prepare the data"
   ]
  },
  {
   "cell_type": "code",
   "execution_count": 8,
   "id": "20bb757ccd29f5e3",
   "metadata": {
    "ExecuteTime": {
     "end_time": "2024-07-03T07:28:39.233059Z",
     "start_time": "2024-07-03T07:28:37.039455Z"
    },
    "collapsed": false
   },
   "outputs": [
    {
     "name": "stderr",
     "output_type": "stream",
     "text": [
      "/tmp/ipykernel_24578/1145991444.py:1: DtypeWarning: Columns (52) have mixed types. Specify dtype option on import or set low_memory=False.\n",
      "  df = pd.read_csv(\"flatfox.csv\")\n"
     ]
    },
    {
     "data": {
      "text/html": [
       "<div>\n",
       "<style scoped>\n",
       "    .dataframe tbody tr th:only-of-type {\n",
       "        vertical-align: middle;\n",
       "    }\n",
       "\n",
       "    .dataframe tbody tr th {\n",
       "        vertical-align: top;\n",
       "    }\n",
       "\n",
       "    .dataframe thead th {\n",
       "        text-align: right;\n",
       "    }\n",
       "</style>\n",
       "<table border=\"1\" class=\"dataframe\">\n",
       "  <thead>\n",
       "    <tr style=\"text-align: right;\">\n",
       "      <th></th>\n",
       "      <th>description</th>\n",
       "    </tr>\n",
       "  </thead>\n",
       "  <tbody>\n",
       "    <tr>\n",
       "      <th>1</th>\n",
       "      <td>Diverse Einstellhallenparkplätze zentral in Le...</td>\n",
       "    </tr>\n",
       "    <tr>\n",
       "      <th>2</th>\n",
       "      <td>Nach Vereinbarung vermieten wir im äusserst mo...</td>\n",
       "    </tr>\n",
       "    <tr>\n",
       "      <th>3</th>\n",
       "      <td>In dieser sehr schönen Wohnung vermieten wir d...</td>\n",
       "    </tr>\n",
       "    <tr>\n",
       "      <th>4</th>\n",
       "      <td>I am looking for a buoyant, easygoing person, ...</td>\n",
       "    </tr>\n",
       "    <tr>\n",
       "      <th>5</th>\n",
       "      <td>Loft de 145 m2 comprenant un grand salon/séjou...</td>\n",
       "    </tr>\n",
       "  </tbody>\n",
       "</table>\n",
       "</div>"
      ],
      "text/plain": [
       "                                         description\n",
       "1  Diverse Einstellhallenparkplätze zentral in Le...\n",
       "2  Nach Vereinbarung vermieten wir im äusserst mo...\n",
       "3  In dieser sehr schönen Wohnung vermieten wir d...\n",
       "4  I am looking for a buoyant, easygoing person, ...\n",
       "5  Loft de 145 m2 comprenant un grand salon/séjou..."
      ]
     },
     "execution_count": 8,
     "metadata": {},
     "output_type": "execute_result"
    }
   ],
   "source": [
    "df = pd.read_csv(\"flatfox.csv\")\n",
    "df.drop(df[df[\"offer_type\"] != \"RENT\"].index, inplace=True)\n",
    "# NaN  in floors is replaced by 0\n",
    "df.dropna(subset=[\"price_display\"], inplace=True)\n",
    "df = df.loc[:, ['description']]\n",
    "\n",
    "#df.describe()\n",
    "df.head()\n",
    "#df.isna().sum()\n",
    "#df.dtypes"
   ]
  },
  {
   "cell_type": "markdown",
   "id": "9696c14d7753fd6c",
   "metadata": {
    "collapsed": false
   },
   "source": [
    "Write clean data to csv"
   ]
  },
  {
   "cell_type": "code",
   "execution_count": 9,
   "id": "a7ed6c32c2df853b",
   "metadata": {
    "ExecuteTime": {
     "end_time": "2024-07-03T07:17:07.029302Z",
     "start_time": "2024-07-03T07:17:06.617630Z"
    },
    "collapsed": false
   },
   "outputs": [],
   "source": [
    "df.to_csv(\"flatfox_description.csv\", index=False)"
   ]
  }
 ],
 "metadata": {
  "kernelspec": {
   "display_name": "Python 3",
   "language": "python",
   "name": "python3"
  },
  "language_info": {
   "codemirror_mode": {
    "name": "ipython",
    "version": 3
   },
   "file_extension": ".py",
   "mimetype": "text/x-python",
   "name": "python",
   "nbconvert_exporter": "python",
   "pygments_lexer": "ipython3",
   "version": "3.10.12"
  }
 },
 "nbformat": 4,
 "nbformat_minor": 5
}
