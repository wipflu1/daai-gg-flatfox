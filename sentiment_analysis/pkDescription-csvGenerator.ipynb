{
 "cells": [
  {
   "cell_type": "code",
   "execution_count": 2,
   "metadata": {},
   "outputs": [
    {
     "name": "stderr",
     "output_type": "stream",
     "text": [
      "/usr/local/lib/python3.10/dist-packages/tqdm/auto.py:21: TqdmWarning: IProgress not found. Please update jupyter and ipywidgets. See https://ipywidgets.readthedocs.io/en/stable/user_install.html\n",
      "  from .autonotebook import tqdm as notebook_tqdm\n"
     ]
    }
   ],
   "source": [
    "import pandas as pd\n",
    "from transformers import pipeline"
   ]
  },
  {
   "cell_type": "code",
   "execution_count": 3,
   "metadata": {},
   "outputs": [
    {
     "name": "stderr",
     "output_type": "stream",
     "text": [
      "/tmp/ipykernel_23366/1452760765.py:1: DtypeWarning: Columns (52) have mixed types. Specify dtype option on import or set low_memory=False.\n",
      "  df=pd.read_csv('flatfox.csv')\n"
     ]
    },
    {
     "data": {
      "text/html": [
       "<div>\n",
       "<style scoped>\n",
       "    .dataframe tbody tr th:only-of-type {\n",
       "        vertical-align: middle;\n",
       "    }\n",
       "\n",
       "    .dataframe tbody tr th {\n",
       "        vertical-align: top;\n",
       "    }\n",
       "\n",
       "    .dataframe thead th {\n",
       "        text-align: right;\n",
       "    }\n",
       "</style>\n",
       "<table border=\"1\" class=\"dataframe\">\n",
       "  <thead>\n",
       "    <tr style=\"text-align: right;\">\n",
       "      <th></th>\n",
       "      <th>pk</th>\n",
       "      <th>description</th>\n",
       "    </tr>\n",
       "  </thead>\n",
       "  <tbody>\n",
       "    <tr>\n",
       "      <th>0</th>\n",
       "      <td>26706</td>\n",
       "      <td>Grosszügiger und Lichtdurchfluteter Büro Praxi...</td>\n",
       "    </tr>\n",
       "    <tr>\n",
       "      <th>1</th>\n",
       "      <td>33819</td>\n",
       "      <td>Diverse Einstellhallenparkplätze zentral in Le...</td>\n",
       "    </tr>\n",
       "    <tr>\n",
       "      <th>2</th>\n",
       "      <td>44676</td>\n",
       "      <td>Nach Vereinbarung vermieten wir im äusserst mo...</td>\n",
       "    </tr>\n",
       "    <tr>\n",
       "      <th>3</th>\n",
       "      <td>46167</td>\n",
       "      <td>In dieser sehr schönen Wohnung vermieten wir d...</td>\n",
       "    </tr>\n",
       "    <tr>\n",
       "      <th>4</th>\n",
       "      <td>51159</td>\n",
       "      <td>I am looking for a buoyant easygoing person wh...</td>\n",
       "    </tr>\n",
       "  </tbody>\n",
       "</table>\n",
       "</div>"
      ],
      "text/plain": [
       "      pk                                        description\n",
       "0  26706  Grosszügiger und Lichtdurchfluteter Büro Praxi...\n",
       "1  33819  Diverse Einstellhallenparkplätze zentral in Le...\n",
       "2  44676  Nach Vereinbarung vermieten wir im äusserst mo...\n",
       "3  46167  In dieser sehr schönen Wohnung vermieten wir d...\n",
       "4  51159  I am looking for a buoyant easygoing person wh..."
      ]
     },
     "execution_count": 3,
     "metadata": {},
     "output_type": "execute_result"
    }
   ],
   "source": [
    "df=pd.read_csv('flatfox.csv')\n",
    "df=df[['pk','description']]\n",
    "df = df.replace('[^\\w\\s]','', regex=True)\n",
    "df.head()"
   ]
  },
  {
   "cell_type": "code",
   "execution_count": 4,
   "metadata": {},
   "outputs": [
    {
     "name": "stdout",
     "output_type": "stream",
     "text": [
      "In der malerischen Stadt Aarau wartet diese grosszügige und sehr helle Bürofläche darauf von Ihnen entdeckt zu werden Auf 3 Etagen bietet sie genügend Platz für Ihre Ideen und Kunden Die Möglichkeit Ihre Wünsche bzgl Raumaufteilung beim Umbau einzubringen macht diese Immobilie besonders attraktiv 8 Parkplätze stehen Ihnen zur Verfügung und eine Terrasse lädt zu entspannten Pausen ein Die zentrale Lage macht sie ideal für Arztpraxen Kosmetikstudios oder grössere Unternehmen   \n",
      "Vorzugsweise werden alle 3 Etagen an einen Mieter vergeben   \n",
      "  \n",
      "Dieses BETTERHOMESAngebot zeichnet sich durch folgende Vorteile aus   \n",
      " grosszügige Büro und  oder Behandlungsflächen auf 3 Etagen   \n",
      " eigene Wünsche beim Umbau sehr willkommen   \n",
      " 8 Parkplätze vorhanden   \n",
      " Terrasse für Pausen   \n",
      " zentrale Lage   \n",
      " Ideal für Arztpraxen Kosmetikstudios oder grössere Unternehmen   \n",
      " Lift vorhanden   \n",
      " sehr helle Räumlichkeiten   \n",
      " Mitsprache bei Raumaufteilung   \n",
      " vorzugsweise werden alle 3 Etagen an einen Mieter vergeben   \n",
      " und und und    \n",
      "  \n",
      "  \n",
      "Interessiert Kontaktieren Sie uns für eine unverbindliche Besichtigung   \n",
      "  \n",
      "Nichts Passendes gefunden Über 2300 weitere Angebote unter wwwbetterhomesch  der Immobilienfairmittler   \n",
      "  \n",
      "Selber eine Immobilie zu vermarkten   \n",
      "Profitieren Sie von unserem Knowhow httpswwwbetterhomeschdeprofitieren   \n",
      "  \n",
      "Sie möchten eine Immobilie schätzen lassen   \n",
      "Erfahren Sie jetzt ihren Wert über unsere GratisSchätzung sofort und unverbindlich   \n",
      "httpswwwbetterhomeschdeknowledgeestimation   \n",
      "  \n",
      "  \n",
      "Mehr Details   \n",
      "Lage zentral   \n",
      "Zustand sehr gut   \n",
      "  \n",
      "Bäder  Nasszellen nach Vereinbarung   \n",
      "Öffentliche Verkehrsmittel Bus 130 m   \n",
      "Schulen Kindergarten  Primarschule  Sekundarschule 700 m   \n",
      "Geschäfte Gais Center 500 m\n"
     ]
    }
   ],
   "source": [
    "pipe = pipeline(\"text-classification\", model=\"nlptown/bert-base-multilingual-uncased-sentiment\")\n",
    "results=[]\n",
    "\n",
    "for index, row in df.iterrows():\n",
    "    text = str(row['description'])\n",
    "\n",
    "    try:\n",
    "        result= pipe(text, top_k=1, truncation=True)\n",
    "        results.append(result)\n",
    "    except:\n",
    "        print(text)\n",
    "df['SentimentValue'] = results\n",
    "\n"
   ]
  },
  {
   "cell_type": "code",
   "execution_count": null,
   "metadata": {},
   "outputs": [],
   "source": [
    "display(df)\n",
    "df.to_csv(\"pk-description-sentimentValue.csv\",index=False, quoting=csv.QUOTE_NONNUMERIC ,quotechar='\"', lineterminator='!')\n",
    "df=df[['pk','sentimentValue']]\n",
    "df.to_csv(\"pk-sentimentValue.csv\", index=False,)"
   ]
  }
 ],
 "metadata": {
  "kernelspec": {
   "display_name": "Python 3",
   "language": "python",
   "name": "python3"
  },
  "language_info": {
   "codemirror_mode": {
    "name": "ipython",
    "version": 3
   },
   "file_extension": ".py",
   "mimetype": "text/x-python",
   "name": "python",
   "nbconvert_exporter": "python",
   "pygments_lexer": "ipython3",
   "version": "3.10.12"
  }
 },
 "nbformat": 4,
 "nbformat_minor": 2
}
