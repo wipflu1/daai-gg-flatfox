{
 "cells": [
  {
   "cell_type": "markdown",
   "id": "2dacbbe7fbb4cdc4",
   "metadata": {
    "collapsed": false
   },
   "source": [
    "# Imports"
   ]
  },
  {
   "cell_type": "code",
   "execution_count": 1,
   "id": "initial_id",
   "metadata": {
    "ExecuteTime": {
     "end_time": "2024-07-03T07:28:33.217711Z",
     "start_time": "2024-07-03T07:28:33.212169Z"
    },
    "collapsed": true
   },
   "outputs": [],
   "source": [
    "import pandas as pd"
   ]
  },
  {
   "cell_type": "markdown",
   "id": "57823dfb87c092aa",
   "metadata": {
    "collapsed": false
   },
   "source": [
    "Initialize functions"
   ]
  },
  {
   "cell_type": "code",
   "execution_count": 2,
   "id": "15c1f7bef8b0e1e1",
   "metadata": {
    "ExecuteTime": {
     "end_time": "2024-07-03T07:28:34.630286Z",
     "start_time": "2024-07-03T07:28:34.621302Z"
    },
    "collapsed": false
   },
   "outputs": [],
   "source": [
    "def categorize(df, categories):\n",
    "    for category in categories:\n",
    "        df[category] = pd.Categorical(df[category]).codes\n",
    "    return df\n",
    "\n",
    "def numberize(df, numerics):\n",
    "    for numeric in numerics:\n",
    "        df[numeric] = df[numeric].astype(\"float\")\n",
    "    return df"
   ]
  },
  {
   "cell_type": "markdown",
   "id": "1ab6248c833ee646",
   "metadata": {
    "collapsed": false
   },
   "source": [
    "load and prepare the data"
   ]
  },
  {
   "cell_type": "code",
   "execution_count": 1,
   "id": "20bb757ccd29f5e3",
   "metadata": {
    "ExecuteTime": {
     "end_time": "2024-07-03T07:28:39.233059Z",
     "start_time": "2024-07-03T07:28:37.039455Z"
    },
    "collapsed": false
   },
   "outputs": [
    {
     "ename": "NameError",
     "evalue": "name 'pd' is not defined",
     "output_type": "error",
     "traceback": [
      "\u001b[0;31m---------------------------------------------------------------------------\u001b[0m",
      "\u001b[0;31mNameError\u001b[0m                                 Traceback (most recent call last)",
      "Cell \u001b[0;32mIn[1], line 1\u001b[0m\n\u001b[0;32m----> 1\u001b[0m df \u001b[38;5;241m=\u001b[39m \u001b[43mpd\u001b[49m\u001b[38;5;241m.\u001b[39mread_csv(\u001b[38;5;124m\"\u001b[39m\u001b[38;5;124mflatfox_clean.csv\u001b[39m\u001b[38;5;124m\"\u001b[39m)\n\u001b[1;32m      2\u001b[0m \u001b[38;5;66;03m# NaN  in floors is replaced by 0\u001b[39;00m\n\u001b[1;32m      3\u001b[0m \u001b[38;5;66;03m#df.dropna(subset=[\"price_display\"], inplace=True)\u001b[39;00m\n\u001b[1;32m      4\u001b[0m df \u001b[38;5;241m=\u001b[39m df[[\u001b[38;5;124m'\u001b[39m\u001b[38;5;124mdescription\u001b[39m\u001b[38;5;124m'\u001b[39m]]\n",
      "\u001b[0;31mNameError\u001b[0m: name 'pd' is not defined"
     ]
    }
   ],
   "source": [
    "df = pd.read_csv(\"flatfox_clean.csv\")\n",
    "# NaN  in floors is replaced by 0\n",
    "#df.dropna(subset=[\"price_display\"], inplace=True)\n",
    "df = df[['description']]\n",
    "df = df.replace('[:punct:]','', regex=True)\n",
    "#df.describe()\n",
    "df.head()\n",
    "#df.isna().sum()\n",
    "#df.dtypes"
   ]
  },
  {
   "cell_type": "markdown",
   "id": "9696c14d7753fd6c",
   "metadata": {
    "collapsed": false
   },
   "source": [
    "Write clean data to csv"
   ]
  },
  {
   "cell_type": "code",
   "execution_count": 9,
   "id": "a7ed6c32c2df853b",
   "metadata": {
    "ExecuteTime": {
     "end_time": "2024-07-03T07:17:07.029302Z",
     "start_time": "2024-07-03T07:17:06.617630Z"
    },
    "collapsed": false
   },
   "outputs": [],
   "source": [
    "df.to_csv(\"flatfox_description.csv\", index=False)"
   ]
  }
 ],
 "metadata": {
  "kernelspec": {
   "display_name": "Python 3",
   "language": "python",
   "name": "python3"
  },
  "language_info": {
   "codemirror_mode": {
    "name": "ipython",
    "version": 3
   },
   "file_extension": ".py",
   "mimetype": "text/x-python",
   "name": "python",
   "nbconvert_exporter": "python",
   "pygments_lexer": "ipython3",
   "version": "3.10.12"
  }
 },
 "nbformat": 4,
 "nbformat_minor": 5
}
