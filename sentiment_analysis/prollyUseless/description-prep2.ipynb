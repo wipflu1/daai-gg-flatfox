{
 "cells": [
  {
   "cell_type": "markdown",
   "id": "2dacbbe7fbb4cdc4",
   "metadata": {
    "collapsed": false
   },
   "source": [
    "# Imports"
   ]
  },
  {
   "cell_type": "code",
   "execution_count": 16,
   "id": "initial_id",
   "metadata": {
    "ExecuteTime": {
     "end_time": "2024-07-03T07:28:33.217711Z",
     "start_time": "2024-07-03T07:28:33.212169Z"
    },
    "collapsed": true
   },
   "outputs": [],
   "source": [
    "import pandas as pd\n",
    "import csv"
   ]
  },
  {
   "cell_type": "markdown",
   "id": "57823dfb87c092aa",
   "metadata": {
    "collapsed": false
   },
   "source": [
    "Initialize functions"
   ]
  },
  {
   "cell_type": "code",
   "execution_count": 2,
   "id": "15c1f7bef8b0e1e1",
   "metadata": {
    "ExecuteTime": {
     "end_time": "2024-07-03T07:28:34.630286Z",
     "start_time": "2024-07-03T07:28:34.621302Z"
    },
    "collapsed": false
   },
   "outputs": [],
   "source": [
    "def categorize(df, categories):\n",
    "    for category in categories:\n",
    "        df[category] = pd.Categorical(df[category]).codes\n",
    "    return df\n",
    "\n",
    "def numberize(df, numerics):\n",
    "    for numeric in numerics:\n",
    "        df[numeric] = df[numeric].astype(\"float\")\n",
    "    return df"
   ]
  },
  {
   "cell_type": "markdown",
   "id": "1ab6248c833ee646",
   "metadata": {
    "collapsed": false
   },
   "source": [
    "load and prepare the data"
   ]
  },
  {
   "cell_type": "code",
   "execution_count": 7,
   "id": "20bb757ccd29f5e3",
   "metadata": {
    "ExecuteTime": {
     "end_time": "2024-07-03T07:28:39.233059Z",
     "start_time": "2024-07-03T07:28:37.039455Z"
    },
    "collapsed": false
   },
   "outputs": [
    {
     "name": "stderr",
     "output_type": "stream",
     "text": [
      "/tmp/ipykernel_31214/518066010.py:1: DtypeWarning: Columns (52) have mixed types. Specify dtype option on import or set low_memory=False.\n",
      "  df = pd.read_csv(\"flatfox.csv\")\n"
     ]
    }
   ],
   "source": [
    "df = pd.read_csv(\"flatfox.csv\")\n",
    "df=df[['description']]\n",
    "df = df.replace('[^\\w\\s]','', regex=True)\n"
   ]
  },
  {
   "cell_type": "markdown",
   "id": "9696c14d7753fd6c",
   "metadata": {
    "collapsed": false
   },
   "source": [
    "Write clean data to csv"
   ]
  },
  {
   "cell_type": "code",
   "execution_count": null,
   "id": "6c5544df",
   "metadata": {},
   "outputs": [],
   "source": []
  },
  {
   "cell_type": "code",
   "execution_count": 18,
   "id": "a7ed6c32c2df853b",
   "metadata": {
    "ExecuteTime": {
     "end_time": "2024-07-03T07:17:07.029302Z",
     "start_time": "2024-07-03T07:17:06.617630Z"
    },
    "collapsed": false
   },
   "outputs": [
    {
     "data": {
      "text/html": [
       "<div>\n",
       "<style scoped>\n",
       "    .dataframe tbody tr th:only-of-type {\n",
       "        vertical-align: middle;\n",
       "    }\n",
       "\n",
       "    .dataframe tbody tr th {\n",
       "        vertical-align: top;\n",
       "    }\n",
       "\n",
       "    .dataframe thead th {\n",
       "        text-align: right;\n",
       "    }\n",
       "</style>\n",
       "<table border=\"1\" class=\"dataframe\">\n",
       "  <thead>\n",
       "    <tr style=\"text-align: right;\">\n",
       "      <th></th>\n",
       "      <th>description</th>\n",
       "    </tr>\n",
       "  </thead>\n",
       "  <tbody>\n",
       "    <tr>\n",
       "      <th>0</th>\n",
       "      <td>Grosszügiger und Lichtdurchfluteter Büro Praxi...</td>\n",
       "    </tr>\n",
       "    <tr>\n",
       "      <th>1</th>\n",
       "      <td>Diverse Einstellhallenparkplätze zentral in Le...</td>\n",
       "    </tr>\n",
       "    <tr>\n",
       "      <th>2</th>\n",
       "      <td>Nach Vereinbarung vermieten wir im äusserst mo...</td>\n",
       "    </tr>\n",
       "    <tr>\n",
       "      <th>3</th>\n",
       "      <td>In dieser sehr schönen Wohnung vermieten wir d...</td>\n",
       "    </tr>\n",
       "    <tr>\n",
       "      <th>4</th>\n",
       "      <td>I am looking for a buoyant easygoing person wh...</td>\n",
       "    </tr>\n",
       "    <tr>\n",
       "      <th>...</th>\n",
       "      <td>...</td>\n",
       "    </tr>\n",
       "    <tr>\n",
       "      <th>27652</th>\n",
       "      <td>Ein Zimmer in einer 3er WG in kreis 6  \\nDas Z...</td>\n",
       "    </tr>\n",
       "    <tr>\n",
       "      <th>27653</th>\n",
       "      <td>An sehr gut erschlossener Lage vermieten wir a...</td>\n",
       "    </tr>\n",
       "    <tr>\n",
       "      <th>27654</th>\n",
       "      <td>Parkplatz inkl</td>\n",
       "    </tr>\n",
       "    <tr>\n",
       "      <th>27655</th>\n",
       "      <td>Ihr neues Zuhause erwartet Sie ein lichtdurchf...</td>\n",
       "    </tr>\n",
       "    <tr>\n",
       "      <th>27656</th>\n",
       "      <td>Direkt am Bahnhof von Dietikon suchen wir eine...</td>\n",
       "    </tr>\n",
       "  </tbody>\n",
       "</table>\n",
       "<p>27657 rows × 1 columns</p>\n",
       "</div>"
      ],
      "text/plain": [
       "                                             description\n",
       "0      Grosszügiger und Lichtdurchfluteter Büro Praxi...\n",
       "1      Diverse Einstellhallenparkplätze zentral in Le...\n",
       "2      Nach Vereinbarung vermieten wir im äusserst mo...\n",
       "3      In dieser sehr schönen Wohnung vermieten wir d...\n",
       "4      I am looking for a buoyant easygoing person wh...\n",
       "...                                                  ...\n",
       "27652  Ein Zimmer in einer 3er WG in kreis 6  \\nDas Z...\n",
       "27653  An sehr gut erschlossener Lage vermieten wir a...\n",
       "27654                                     Parkplatz inkl\n",
       "27655  Ihr neues Zuhause erwartet Sie ein lichtdurchf...\n",
       "27656  Direkt am Bahnhof von Dietikon suchen wir eine...\n",
       "\n",
       "[27657 rows x 1 columns]"
      ]
     },
     "metadata": {},
     "output_type": "display_data"
    }
   ],
   "source": [
    "display(df)\n",
    "df.to_csv(\"descriptions_noPunct_CD.csv\",index=False, quoting=csv.QUOTE_NONNUMERIC ,quotechar='\"', lineterminator='!')"
   ]
  }
 ],
 "metadata": {
  "kernelspec": {
   "display_name": "Python 3",
   "language": "python",
   "name": "python3"
  },
  "language_info": {
   "codemirror_mode": {
    "name": "ipython",
    "version": 3
   },
   "file_extension": ".py",
   "mimetype": "text/x-python",
   "name": "python",
   "nbconvert_exporter": "python",
   "pygments_lexer": "ipython3",
   "version": "3.10.12"
  }
 },
 "nbformat": 4,
 "nbformat_minor": 5
}
